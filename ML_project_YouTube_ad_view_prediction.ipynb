{
  "nbformat": 4,
  "nbformat_minor": 0,
  "metadata": {
    "colab": {
      "name": "ML project-YouTube ad view prediction",
      "provenance": [],
      "collapsed_sections": []
    },
    "kernelspec": {
      "name": "python3",
      "display_name": "Python 3"
    }
  },
  "cells": [
    {
      "cell_type": "markdown",
      "metadata": {
        "id": "zF3W27nhbXhk"
      },
      "source": [
        "***(1) Import the datasets and libraries, check shape and datatype***"
      ]
    },
    {
      "cell_type": "code",
      "metadata": {
        "id": "dNwgSS00eJQ7"
      },
      "source": [
        "import numpy as np\n",
        "import pandas as pd\n",
        "import matplotlib.pyplot as plt  \n",
        "import seaborn as sns \n",
        "from sklearn.model_selection import train_test_split \n",
        "from sklearn.linear_model import LinearRegression\n",
        "from sklearn import metrics"
      ],
      "execution_count": 21,
      "outputs": []
    },
    {
      "cell_type": "code",
      "metadata": {
        "id": "-x8E3pIXSN5d",
        "outputId": "9a7327a9-2ac0-4ee1-fce3-5799ba544f5b",
        "colab": {
          "resources": {
            "http://localhost:8080/nbextensions/google.colab/files.js": {
              "data": "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",
              "ok": true,
              "headers": [
                [
                  "content-type",
                  "application/javascript"
                ]
              ],
              "status": 200,
              "status_text": ""
            }
          },
          "base_uri": "https://localhost:8080/",
          "height": 73
        }
      },
      "source": [
        "from google.colab import files\n",
        "uploaded=files.upload()"
      ],
      "execution_count": 2,
      "outputs": [
        {
          "output_type": "display_data",
          "data": {
            "text/html": [
              "\n",
              "     <input type=\"file\" id=\"files-e700d77c-4d3b-407a-8541-cf0e6ba6a068\" name=\"files[]\" multiple disabled\n",
              "        style=\"border:none\" />\n",
              "     <output id=\"result-e700d77c-4d3b-407a-8541-cf0e6ba6a068\">\n",
              "      Upload widget is only available when the cell has been executed in the\n",
              "      current browser session. Please rerun this cell to enable.\n",
              "      </output>\n",
              "      <script src=\"/nbextensions/google.colab/files.js\"></script> "
            ],
            "text/plain": [
              "<IPython.core.display.HTML object>"
            ]
          },
          "metadata": {
            "tags": []
          }
        },
        {
          "output_type": "stream",
          "text": [
            "Saving train.csv to train.csv\n"
          ],
          "name": "stdout"
        }
      ]
    },
    {
      "cell_type": "code",
      "metadata": {
        "id": "cEw2dfAch5RW",
        "outputId": "efe1f5f6-15e2-4c55-8f20-98937f8a1a86",
        "colab": {
          "base_uri": "https://localhost:8080/",
          "height": 251
        }
      },
      "source": [
        "dataset = pd.read_csv('/content/train.csv')\n",
        "print(dataset)\n",
        "ds=pd.DataFrame()"
      ],
      "execution_count": 22,
      "outputs": [
        {
          "output_type": "stream",
          "text": [
            "           vidid  adview    views likes  ... comment   published duration category\n",
            "0      VID_18655      40  1031602  8523  ...    1095   9/14/2016  PT7M37S        F\n",
            "1      VID_14135       2     1707    56  ...       6   10/1/2016  PT9M30S        D\n",
            "2       VID_2187       1     2023    25  ...       2    7/2/2016  PT2M16S        C\n",
            "3      VID_23096       6   620860   777  ...     153   7/27/2016  PT4M22S        H\n",
            "4      VID_10175       1      666     1  ...       0   6/29/2016    PT31S        D\n",
            "...          ...     ...      ...   ...  ...     ...         ...      ...      ...\n",
            "14994     VID_31       2   525949  1137  ...      86   5/18/2015  PT6M10S        A\n",
            "14995   VID_5861       1   665673  3849  ...     569  10/20/2015  PT3M56S        D\n",
            "14996    VID_805       4     3479    16  ...       1   8/23/2013  PT3M13S        B\n",
            "14997  VID_19843       1      963     0  ...       0   10/2/2010    PT26S        G\n",
            "14998   VID_8534       1    15212    22  ...       4   2/19/2016   PT1M1S        D\n",
            "\n",
            "[14999 rows x 9 columns]\n"
          ],
          "name": "stdout"
        }
      ]
    },
    {
      "cell_type": "code",
      "metadata": {
        "id": "xgBc1QBQeunc",
        "outputId": "1b3af388-e7fb-412b-f77a-3f569ea46507",
        "colab": {
          "base_uri": "https://localhost:8080/",
          "height": 452
        }
      },
      "source": [
        "print(dataset.head(10))\n",
        "print(dataset.tail(10))"
      ],
      "execution_count": null,
      "outputs": [
        {
          "output_type": "stream",
          "text": [
            "       vidid  adview    views likes  ... comment  published  duration category\n",
            "0  VID_18655      40  1031602  8523  ...    1095  9/14/2016   PT7M37S        F\n",
            "1  VID_14135       2     1707    56  ...       6  10/1/2016   PT9M30S        D\n",
            "2   VID_2187       1     2023    25  ...       2   7/2/2016   PT2M16S        C\n",
            "3  VID_23096       6   620860   777  ...     153  7/27/2016   PT4M22S        H\n",
            "4  VID_10175       1      666     1  ...       0  6/29/2016     PT31S        D\n",
            "5  VID_10756       4       78     0  ...       0   5/9/2016     PT15S        D\n",
            "6   VID_9782   40621    43118    15  ...       0  8/21/2015   PT3M20S        D\n",
            "7  VID_16452       1    14205    55  ...       1   8/1/2016     PT58S        E\n",
            "8  VID_18486       1   526015  3064  ...    2582  11/6/2015  PT27M50S        F\n",
            "9    VID_681       1   406992  3831  ...    7839  10/3/2016  PT11M19S        B\n",
            "\n",
            "[10 rows x 9 columns]\n",
            "           vidid  adview    views  likes  ... comment   published  duration category\n",
            "14989  VID_20638      22  1204587  10284  ...    2016   4/10/2013  PT10H19S        G\n",
            "14990  VID_11386      15   525829    350  ...       F    7/8/2016  PT29M38S        D\n",
            "14991   VID_2502       1   333336    152  ...       F  12/11/2015  PT18M40S        C\n",
            "14992  VID_11653       1    78021    422  ...      14   8/12/2016   PT2M57S        D\n",
            "14993  VID_13909      11    96816    122  ...      11   1/30/2014    PT2M6S        D\n",
            "14994     VID_31       2   525949   1137  ...      86   5/18/2015   PT6M10S        A\n",
            "14995   VID_5861       1   665673   3849  ...     569  10/20/2015   PT3M56S        D\n",
            "14996    VID_805       4     3479     16  ...       1   8/23/2013   PT3M13S        B\n",
            "14997  VID_19843       1      963      0  ...       0   10/2/2010     PT26S        G\n",
            "14998   VID_8534       1    15212     22  ...       4   2/19/2016    PT1M1S        D\n",
            "\n",
            "[10 rows x 9 columns]\n"
          ],
          "name": "stdout"
        }
      ]
    },
    {
      "cell_type": "code",
      "metadata": {
        "id": "3rTVMYh0iILq",
        "outputId": "8045206b-72b9-4c01-a483-3ef99916fb86",
        "colab": {
          "base_uri": "https://localhost:8080/",
          "height": 33
        }
      },
      "source": [
        "dataset.shape"
      ],
      "execution_count": 23,
      "outputs": [
        {
          "output_type": "execute_result",
          "data": {
            "text/plain": [
              "(14999, 9)"
            ]
          },
          "metadata": {
            "tags": []
          },
          "execution_count": 23
        }
      ]
    },
    {
      "cell_type": "code",
      "metadata": {
        "id": "vXfPhXvCt87g",
        "outputId": "81584334-9981-4781-ec21-5452f7263da8",
        "colab": {
          "base_uri": "https://localhost:8080/",
          "height": 251
        }
      },
      "source": [
        "dataset.describe"
      ],
      "execution_count": null,
      "outputs": [
        {
          "output_type": "execute_result",
          "data": {
            "text/plain": [
              "<bound method NDFrame.describe of            vidid  adview    views likes  ... comment   published duration category\n",
              "0      VID_18655      40  1031602  8523  ...    1095   9/14/2016  PT7M37S        F\n",
              "1      VID_14135       2     1707    56  ...       6   10/1/2016  PT9M30S        D\n",
              "2       VID_2187       1     2023    25  ...       2    7/2/2016  PT2M16S        C\n",
              "3      VID_23096       6   620860   777  ...     153   7/27/2016  PT4M22S        H\n",
              "4      VID_10175       1      666     1  ...       0   6/29/2016    PT31S        D\n",
              "...          ...     ...      ...   ...  ...     ...         ...      ...      ...\n",
              "14994     VID_31       2   525949  1137  ...      86   5/18/2015  PT6M10S        A\n",
              "14995   VID_5861       1   665673  3849  ...     569  10/20/2015  PT3M56S        D\n",
              "14996    VID_805       4     3479    16  ...       1   8/23/2013  PT3M13S        B\n",
              "14997  VID_19843       1      963     0  ...       0   10/2/2010    PT26S        G\n",
              "14998   VID_8534       1    15212    22  ...       4   2/19/2016   PT1M1S        D\n",
              "\n",
              "[14999 rows x 9 columns]>"
            ]
          },
          "metadata": {
            "tags": []
          },
          "execution_count": 8
        }
      ]
    },
    {
      "cell_type": "code",
      "metadata": {
        "id": "XpZjN-swi4xT",
        "outputId": "f6c74265-cb1e-4042-d5cd-c7dd8c43efae",
        "colab": {
          "base_uri": "https://localhost:8080/",
          "height": 184
        }
      },
      "source": [
        "k=pd.DataFrame(dataset)\n",
        "k.dtypes"
      ],
      "execution_count": 4,
      "outputs": [
        {
          "output_type": "execute_result",
          "data": {
            "text/plain": [
              "vidid        object\n",
              "adview        int64\n",
              "views        object\n",
              "likes        object\n",
              "dislikes     object\n",
              "comment      object\n",
              "published    object\n",
              "duration     object\n",
              "category     object\n",
              "dtype: object"
            ]
          },
          "metadata": {
            "tags": []
          },
          "execution_count": 4
        }
      ]
    },
    {
      "cell_type": "code",
      "metadata": {
        "id": "JFnA3ry9jtBY",
        "outputId": "5a5b8aad-9e04-4e7d-e15b-783ad917a50c",
        "colab": {
          "base_uri": "https://localhost:8080/",
          "height": 184
        }
      },
      "source": [
        "dataset.isnull().any()"
      ],
      "execution_count": 5,
      "outputs": [
        {
          "output_type": "execute_result",
          "data": {
            "text/plain": [
              "vidid        False\n",
              "adview       False\n",
              "views        False\n",
              "likes        False\n",
              "dislikes     False\n",
              "comment      False\n",
              "published    False\n",
              "duration     False\n",
              "category     False\n",
              "dtype: bool"
            ]
          },
          "metadata": {
            "tags": []
          },
          "execution_count": 5
        }
      ]
    },
    {
      "cell_type": "code",
      "metadata": {
        "id": "9LQYYgZgdIXk",
        "outputId": "b324ab68-319e-4eec-c085-d959f3b22264",
        "colab": {
          "base_uri": "https://localhost:8080/",
          "height": 284
        }
      },
      "source": [
        "dataset.info()"
      ],
      "execution_count": 6,
      "outputs": [
        {
          "output_type": "stream",
          "text": [
            "<class 'pandas.core.frame.DataFrame'>\n",
            "RangeIndex: 14999 entries, 0 to 14998\n",
            "Data columns (total 9 columns):\n",
            " #   Column     Non-Null Count  Dtype \n",
            "---  ------     --------------  ----- \n",
            " 0   vidid      14999 non-null  object\n",
            " 1   adview     14999 non-null  int64 \n",
            " 2   views      14999 non-null  object\n",
            " 3   likes      14999 non-null  object\n",
            " 4   dislikes   14999 non-null  object\n",
            " 5   comment    14999 non-null  object\n",
            " 6   published  14999 non-null  object\n",
            " 7   duration   14999 non-null  object\n",
            " 8   category   14999 non-null  object\n",
            "dtypes: int64(1), object(8)\n",
            "memory usage: 1.0+ MB\n"
          ],
          "name": "stdout"
        }
      ]
    },
    {
      "cell_type": "markdown",
      "metadata": {
        "id": "XPjqtpBocEZp"
      },
      "source": [
        "***(2) Visualise the dataset using plots***"
      ]
    },
    {
      "cell_type": "code",
      "metadata": {
        "id": "Hii-3xFGTsjB",
        "outputId": "f7139cf7-c1e2-49c8-d72f-92b3bfb30320",
        "colab": {
          "base_uri": "https://localhost:8080/",
          "height": 524
        }
      },
      "source": [
        "plt.hist(dataset[\"category\"])\n",
        "plt.show()\n",
        "plt.plot(dataset[\"adview\"])\n",
        "plt.show()\n",
        "# Remove videos with adview greater than 2000000 as outlier\n",
        "dataset = dataset[dataset[\"adview\"] <2000000]"
      ],
      "execution_count": null,
      "outputs": [
        {
          "output_type": "display_data",
          "data": {
            "image/png": "[encoded data removed]",
            "text/plain": [
              "<Figure size 432x288 with 1 Axes>"
            ]
          },
          "metadata": {
            "tags": [],
            "needs_background": "light"
          }
        },
        {
          "output_type": "display_data",
          "data": {
            "image/png": "[encoded data removed]",
            "text/plain": [
              "<Figure size 432x288 with 1 Axes>"
            ]
          },
          "metadata": {
            "tags": [],
            "needs_background": "light"
          }
        }
      ]
    },
    {
      "cell_type": "code",
      "metadata": {
        "id": "XStedEkMGXp2",
        "outputId": "3e32ade1-eda4-4ce4-99e5-5a62a4f33453",
        "colab": {
          "base_uri": "https://localhost:8080/",
          "height": 404
        }
      },
      "source": [
        "dataset"
      ],
      "execution_count": 7,
      "outputs": [
        {
          "output_type": "execute_result",
          "data": {
            "text/html": [
              "<div>\n",
              "<style scoped>\n",
              "    .dataframe tbody tr th:only-of-type {\n",
              "        vertical-align: middle;\n",
              "    }\n",
              "\n",
              "    .dataframe tbody tr th {\n",
              "        vertical-align: top;\n",
              "    }\n",
              "\n",
              "    .dataframe thead th {\n",
              "        text-align: right;\n",
              "    }\n",
              "</style>\n",
              "<table border=\"1\" class=\"dataframe\">\n",
              "  <thead>\n",
              "    <tr style=\"text-align: right;\">\n",
              "      <th></th>\n",
              "      <th>vidid</th>\n",
              "      <th>adview</th>\n",
              "      <th>views</th>\n",
              "      <th>likes</th>\n",
              "      <th>dislikes</th>\n",
              "      <th>comment</th>\n",
              "      <th>published</th>\n",
              "      <th>duration</th>\n",
              "      <th>category</th>\n",
              "    </tr>\n",
              "  </thead>\n",
              "  <tbody>\n",
              "    <tr>\n",
              "      <th>0</th>\n",
              "      <td>VID_18655</td>\n",
              "      <td>40</td>\n",
              "      <td>1031602</td>\n",
              "      <td>8523</td>\n",
              "      <td>363</td>\n",
              "      <td>1095</td>\n",
              "      <td>9/14/2016</td>\n",
              "      <td>PT7M37S</td>\n",
              "      <td>F</td>\n",
              "    </tr>\n",
              "    <tr>\n",
              "      <th>1</th>\n",
              "      <td>VID_14135</td>\n",
              "      <td>2</td>\n",
              "      <td>1707</td>\n",
              "      <td>56</td>\n",
              "      <td>2</td>\n",
              "      <td>6</td>\n",
              "      <td>10/1/2016</td>\n",
              "      <td>PT9M30S</td>\n",
              "      <td>D</td>\n",
              "    </tr>\n",
              "    <tr>\n",
              "      <th>2</th>\n",
              "      <td>VID_2187</td>\n",
              "      <td>1</td>\n",
              "      <td>2023</td>\n",
              "      <td>25</td>\n",
              "      <td>0</td>\n",
              "      <td>2</td>\n",
              "      <td>7/2/2016</td>\n",
              "      <td>PT2M16S</td>\n",
              "      <td>C</td>\n",
              "    </tr>\n",
              "    <tr>\n",
              "      <th>3</th>\n",
              "      <td>VID_23096</td>\n",
              "      <td>6</td>\n",
              "      <td>620860</td>\n",
              "      <td>777</td>\n",
              "      <td>161</td>\n",
              "      <td>153</td>\n",
              "      <td>7/27/2016</td>\n",
              "      <td>PT4M22S</td>\n",
              "      <td>H</td>\n",
              "    </tr>\n",
              "    <tr>\n",
              "      <th>4</th>\n",
              "      <td>VID_10175</td>\n",
              "      <td>1</td>\n",
              "      <td>666</td>\n",
              "      <td>1</td>\n",
              "      <td>0</td>\n",
              "      <td>0</td>\n",
              "      <td>6/29/2016</td>\n",
              "      <td>PT31S</td>\n",
              "      <td>D</td>\n",
              "    </tr>\n",
              "    <tr>\n",
              "      <th>...</th>\n",
              "      <td>...</td>\n",
              "      <td>...</td>\n",
              "      <td>...</td>\n",
              "      <td>...</td>\n",
              "      <td>...</td>\n",
              "      <td>...</td>\n",
              "      <td>...</td>\n",
              "      <td>...</td>\n",
              "      <td>...</td>\n",
              "    </tr>\n",
              "    <tr>\n",
              "      <th>14994</th>\n",
              "      <td>VID_31</td>\n",
              "      <td>2</td>\n",
              "      <td>525949</td>\n",
              "      <td>1137</td>\n",
              "      <td>83</td>\n",
              "      <td>86</td>\n",
              "      <td>5/18/2015</td>\n",
              "      <td>PT6M10S</td>\n",
              "      <td>A</td>\n",
              "    </tr>\n",
              "    <tr>\n",
              "      <th>14995</th>\n",
              "      <td>VID_5861</td>\n",
              "      <td>1</td>\n",
              "      <td>665673</td>\n",
              "      <td>3849</td>\n",
              "      <td>156</td>\n",
              "      <td>569</td>\n",
              "      <td>10/20/2015</td>\n",
              "      <td>PT3M56S</td>\n",
              "      <td>D</td>\n",
              "    </tr>\n",
              "    <tr>\n",
              "      <th>14996</th>\n",
              "      <td>VID_805</td>\n",
              "      <td>4</td>\n",
              "      <td>3479</td>\n",
              "      <td>16</td>\n",
              "      <td>1</td>\n",
              "      <td>1</td>\n",
              "      <td>8/23/2013</td>\n",
              "      <td>PT3M13S</td>\n",
              "      <td>B</td>\n",
              "    </tr>\n",
              "    <tr>\n",
              "      <th>14997</th>\n",
              "      <td>VID_19843</td>\n",
              "      <td>1</td>\n",
              "      <td>963</td>\n",
              "      <td>0</td>\n",
              "      <td>0</td>\n",
              "      <td>0</td>\n",
              "      <td>10/2/2010</td>\n",
              "      <td>PT26S</td>\n",
              "      <td>G</td>\n",
              "    </tr>\n",
              "    <tr>\n",
              "      <th>14998</th>\n",
              "      <td>VID_8534</td>\n",
              "      <td>1</td>\n",
              "      <td>15212</td>\n",
              "      <td>22</td>\n",
              "      <td>5</td>\n",
              "      <td>4</td>\n",
              "      <td>2/19/2016</td>\n",
              "      <td>PT1M1S</td>\n",
              "      <td>D</td>\n",
              "    </tr>\n",
              "  </tbody>\n",
              "</table>\n",
              "<p>14999 rows × 9 columns</p>\n",
              "</div>"
            ],
            "text/plain": [
              "           vidid  adview    views likes  ... comment   published duration category\n",
              "0      VID_18655      40  1031602  8523  ...    1095   9/14/2016  PT7M37S        F\n",
              "1      VID_14135       2     1707    56  ...       6   10/1/2016  PT9M30S        D\n",
              "2       VID_2187       1     2023    25  ...       2    7/2/2016  PT2M16S        C\n",
              "3      VID_23096       6   620860   777  ...     153   7/27/2016  PT4M22S        H\n",
              "4      VID_10175       1      666     1  ...       0   6/29/2016    PT31S        D\n",
              "...          ...     ...      ...   ...  ...     ...         ...      ...      ...\n",
              "14994     VID_31       2   525949  1137  ...      86   5/18/2015  PT6M10S        A\n",
              "14995   VID_5861       1   665673  3849  ...     569  10/20/2015  PT3M56S        D\n",
              "14996    VID_805       4     3479    16  ...       1   8/23/2013  PT3M13S        B\n",
              "14997  VID_19843       1      963     0  ...       0   10/2/2010    PT26S        G\n",
              "14998   VID_8534       1    15212    22  ...       4   2/19/2016   PT1M1S        D\n",
              "\n",
              "[14999 rows x 9 columns]"
            ]
          },
          "metadata": {
            "tags": []
          },
          "execution_count": 7
        }
      ]
    },
    {
      "cell_type": "markdown",
      "metadata": {
        "id": "suoo3vvQc8Jn"
      },
      "source": [
        "***(4) Transform attributes into numerical values and other\n",
        "necessary transformations***"
      ]
    },
    {
      "cell_type": "markdown",
      "metadata": {
        "id": "S6_Z6_mvcS17"
      },
      "source": [
        "*Time Conversion*"
      ]
    },
    {
      "cell_type": "code",
      "metadata": {
        "id": "BTX-6ucrPNeh",
        "outputId": "eea04ed7-761d-4627-a141-e37dea3ff90a",
        "colab": {
          "base_uri": "https://localhost:8080/",
          "height": 404
        }
      },
      "source": [
        "def timeconv(ch):\n",
        "   ch=ch[2:]\n",
        "   c=0\n",
        "   ri=0\n",
        "   for i in ch:\n",
        "     if (i.isnumeric()):\n",
        "       c=c*10+int(i)\n",
        "     else:\n",
        "       if(i==\"H\"):\n",
        "         ri=ri+c*3600\n",
        "         c=0\n",
        "       elif(i==\"M\"):\n",
        "         ri=ri+c*60\n",
        "         c=0\n",
        "       else:\n",
        "         ri=ri+c\n",
        "   return ri\n",
        "ds[\"duration\"]=dataset[\"duration\"].apply(lambda x:timeconv(x))\n",
        "ds"
      ],
      "execution_count": 24,
      "outputs": [
        {
          "output_type": "execute_result",
          "data": {
            "text/html": [
              "<div>\n",
              "<style scoped>\n",
              "    .dataframe tbody tr th:only-of-type {\n",
              "        vertical-align: middle;\n",
              "    }\n",
              "\n",
              "    .dataframe tbody tr th {\n",
              "        vertical-align: top;\n",
              "    }\n",
              "\n",
              "    .dataframe thead th {\n",
              "        text-align: right;\n",
              "    }\n",
              "</style>\n",
              "<table border=\"1\" class=\"dataframe\">\n",
              "  <thead>\n",
              "    <tr style=\"text-align: right;\">\n",
              "      <th></th>\n",
              "      <th>duration</th>\n",
              "    </tr>\n",
              "  </thead>\n",
              "  <tbody>\n",
              "    <tr>\n",
              "      <th>0</th>\n",
              "      <td>457</td>\n",
              "    </tr>\n",
              "    <tr>\n",
              "      <th>1</th>\n",
              "      <td>570</td>\n",
              "    </tr>\n",
              "    <tr>\n",
              "      <th>2</th>\n",
              "      <td>136</td>\n",
              "    </tr>\n",
              "    <tr>\n",
              "      <th>3</th>\n",
              "      <td>262</td>\n",
              "    </tr>\n",
              "    <tr>\n",
              "      <th>4</th>\n",
              "      <td>31</td>\n",
              "    </tr>\n",
              "    <tr>\n",
              "      <th>...</th>\n",
              "      <td>...</td>\n",
              "    </tr>\n",
              "    <tr>\n",
              "      <th>14994</th>\n",
              "      <td>370</td>\n",
              "    </tr>\n",
              "    <tr>\n",
              "      <th>14995</th>\n",
              "      <td>236</td>\n",
              "    </tr>\n",
              "    <tr>\n",
              "      <th>14996</th>\n",
              "      <td>193</td>\n",
              "    </tr>\n",
              "    <tr>\n",
              "      <th>14997</th>\n",
              "      <td>26</td>\n",
              "    </tr>\n",
              "    <tr>\n",
              "      <th>14998</th>\n",
              "      <td>61</td>\n",
              "    </tr>\n",
              "  </tbody>\n",
              "</table>\n",
              "<p>14999 rows × 1 columns</p>\n",
              "</div>"
            ],
            "text/plain": [
              "       duration\n",
              "0           457\n",
              "1           570\n",
              "2           136\n",
              "3           262\n",
              "4            31\n",
              "...         ...\n",
              "14994       370\n",
              "14995       236\n",
              "14996       193\n",
              "14997        26\n",
              "14998        61\n",
              "\n",
              "[14999 rows x 1 columns]"
            ]
          },
          "metadata": {
            "tags": []
          },
          "execution_count": 24
        }
      ]
    },
    {
      "cell_type": "markdown",
      "metadata": {
        "id": "uB_8lqbxcerB"
      },
      "source": [
        "*Category conversion using label encoder*"
      ]
    },
    {
      "cell_type": "code",
      "metadata": {
        "id": "THnksLn2UYep",
        "outputId": "fd5050b5-6c10-4e90-deb4-40fe4ea60376",
        "colab": {
          "base_uri": "https://localhost:8080/",
          "height": 251
        }
      },
      "source": [
        "from sklearn.preprocessing import LabelEncoder\n",
        "le=LabelEncoder()\n",
        "ds[\"category\"]=le.fit_transform(dataset[\"category\"])\n",
        "print(ds)"
      ],
      "execution_count": 25,
      "outputs": [
        {
          "output_type": "stream",
          "text": [
            "       duration  category\n",
            "0           457         5\n",
            "1           570         3\n",
            "2           136         2\n",
            "3           262         7\n",
            "4            31         3\n",
            "...         ...       ...\n",
            "14994       370         0\n",
            "14995       236         3\n",
            "14996       193         1\n",
            "14997        26         6\n",
            "14998        61         3\n",
            "\n",
            "[14999 rows x 2 columns]\n"
          ],
          "name": "stdout"
        }
      ]
    },
    {
      "cell_type": "markdown",
      "metadata": {
        "id": "mtfk6GKtdGXy"
      },
      "source": [
        "*Transform attributes to numerical values*"
      ]
    },
    {
      "cell_type": "code",
      "metadata": {
        "id": "St0ajcDgWhEA",
        "outputId": "09cd6a8f-b08e-4618-bdb7-372ab8ba631a",
        "colab": {
          "base_uri": "https://localhost:8080/",
          "height": 404
        }
      },
      "source": [
        "ds[\"views\"] = pd.to_numeric(dataset[\"views\"],errors='coerce')\n",
        "ds[\"likes\"] = pd.to_numeric(dataset[\"likes\"],errors='coerce')\n",
        "ds[\"dislikes\"] = pd.to_numeric(dataset[\"dislikes\"],errors='coerce')\n",
        "ds[\"comment\"] = pd.to_numeric(dataset[\"comment\"],errors='coerce')\n",
        "ds"
      ],
      "execution_count": 26,
      "outputs": [
        {
          "output_type": "execute_result",
          "data": {
            "text/html": [
              "<div>\n",
              "<style scoped>\n",
              "    .dataframe tbody tr th:only-of-type {\n",
              "        vertical-align: middle;\n",
              "    }\n",
              "\n",
              "    .dataframe tbody tr th {\n",
              "        vertical-align: top;\n",
              "    }\n",
              "\n",
              "    .dataframe thead th {\n",
              "        text-align: right;\n",
              "    }\n",
              "</style>\n",
              "<table border=\"1\" class=\"dataframe\">\n",
              "  <thead>\n",
              "    <tr style=\"text-align: right;\">\n",
              "      <th></th>\n",
              "      <th>duration</th>\n",
              "      <th>category</th>\n",
              "      <th>views</th>\n",
              "      <th>likes</th>\n",
              "      <th>dislikes</th>\n",
              "      <th>comment</th>\n",
              "    </tr>\n",
              "  </thead>\n",
              "  <tbody>\n",
              "    <tr>\n",
              "      <th>0</th>\n",
              "      <td>457</td>\n",
              "      <td>5</td>\n",
              "      <td>1031602.0</td>\n",
              "      <td>8523.0</td>\n",
              "      <td>363.0</td>\n",
              "      <td>1095.0</td>\n",
              "    </tr>\n",
              "    <tr>\n",
              "      <th>1</th>\n",
              "      <td>570</td>\n",
              "      <td>3</td>\n",
              "      <td>1707.0</td>\n",
              "      <td>56.0</td>\n",
              "      <td>2.0</td>\n",
              "      <td>6.0</td>\n",
              "    </tr>\n",
              "    <tr>\n",
              "      <th>2</th>\n",
              "      <td>136</td>\n",
              "      <td>2</td>\n",
              "      <td>2023.0</td>\n",
              "      <td>25.0</td>\n",
              "      <td>0.0</td>\n",
              "      <td>2.0</td>\n",
              "    </tr>\n",
              "    <tr>\n",
              "      <th>3</th>\n",
              "      <td>262</td>\n",
              "      <td>7</td>\n",
              "      <td>620860.0</td>\n",
              "      <td>777.0</td>\n",
              "      <td>161.0</td>\n",
              "      <td>153.0</td>\n",
              "    </tr>\n",
              "    <tr>\n",
              "      <th>4</th>\n",
              "      <td>31</td>\n",
              "      <td>3</td>\n",
              "      <td>666.0</td>\n",
              "      <td>1.0</td>\n",
              "      <td>0.0</td>\n",
              "      <td>0.0</td>\n",
              "    </tr>\n",
              "    <tr>\n",
              "      <th>...</th>\n",
              "      <td>...</td>\n",
              "      <td>...</td>\n",
              "      <td>...</td>\n",
              "      <td>...</td>\n",
              "      <td>...</td>\n",
              "      <td>...</td>\n",
              "    </tr>\n",
              "    <tr>\n",
              "      <th>14994</th>\n",
              "      <td>370</td>\n",
              "      <td>0</td>\n",
              "      <td>525949.0</td>\n",
              "      <td>1137.0</td>\n",
              "      <td>83.0</td>\n",
              "      <td>86.0</td>\n",
              "    </tr>\n",
              "    <tr>\n",
              "      <th>14995</th>\n",
              "      <td>236</td>\n",
              "      <td>3</td>\n",
              "      <td>665673.0</td>\n",
              "      <td>3849.0</td>\n",
              "      <td>156.0</td>\n",
              "      <td>569.0</td>\n",
              "    </tr>\n",
              "    <tr>\n",
              "      <th>14996</th>\n",
              "      <td>193</td>\n",
              "      <td>1</td>\n",
              "      <td>3479.0</td>\n",
              "      <td>16.0</td>\n",
              "      <td>1.0</td>\n",
              "      <td>1.0</td>\n",
              "    </tr>\n",
              "    <tr>\n",
              "      <th>14997</th>\n",
              "      <td>26</td>\n",
              "      <td>6</td>\n",
              "      <td>963.0</td>\n",
              "      <td>0.0</td>\n",
              "      <td>0.0</td>\n",
              "      <td>0.0</td>\n",
              "    </tr>\n",
              "    <tr>\n",
              "      <th>14998</th>\n",
              "      <td>61</td>\n",
              "      <td>3</td>\n",
              "      <td>15212.0</td>\n",
              "      <td>22.0</td>\n",
              "      <td>5.0</td>\n",
              "      <td>4.0</td>\n",
              "    </tr>\n",
              "  </tbody>\n",
              "</table>\n",
              "<p>14999 rows × 6 columns</p>\n",
              "</div>"
            ],
            "text/plain": [
              "       duration  category      views   likes  dislikes  comment\n",
              "0           457         5  1031602.0  8523.0     363.0   1095.0\n",
              "1           570         3     1707.0    56.0       2.0      6.0\n",
              "2           136         2     2023.0    25.0       0.0      2.0\n",
              "3           262         7   620860.0   777.0     161.0    153.0\n",
              "4            31         3      666.0     1.0       0.0      0.0\n",
              "...         ...       ...        ...     ...       ...      ...\n",
              "14994       370         0   525949.0  1137.0      83.0     86.0\n",
              "14995       236         3   665673.0  3849.0     156.0    569.0\n",
              "14996       193         1     3479.0    16.0       1.0      1.0\n",
              "14997        26         6      963.0     0.0       0.0      0.0\n",
              "14998        61         3    15212.0    22.0       5.0      4.0\n",
              "\n",
              "[14999 rows x 6 columns]"
            ]
          },
          "metadata": {
            "tags": []
          },
          "execution_count": 26
        }
      ]
    },
    {
      "cell_type": "code",
      "metadata": {
        "id": "sTE97qPsY92Q",
        "outputId": "3b3acf90-4aa1-459b-e7ad-e5d1106963bc",
        "colab": {
          "base_uri": "https://localhost:8080/",
          "height": 404
        }
      },
      "source": [
        "from sklearn.preprocessing import LabelEncoder\n",
        "la=LabelEncoder()\n",
        "ds[\"category\"]=la.fit_transform(dataset[\"category\"])\n",
        "ds"
      ],
      "execution_count": 27,
      "outputs": [
        {
          "output_type": "execute_result",
          "data": {
            "text/html": [
              "<div>\n",
              "<style scoped>\n",
              "    .dataframe tbody tr th:only-of-type {\n",
              "        vertical-align: middle;\n",
              "    }\n",
              "\n",
              "    .dataframe tbody tr th {\n",
              "        vertical-align: top;\n",
              "    }\n",
              "\n",
              "    .dataframe thead th {\n",
              "        text-align: right;\n",
              "    }\n",
              "</style>\n",
              "<table border=\"1\" class=\"dataframe\">\n",
              "  <thead>\n",
              "    <tr style=\"text-align: right;\">\n",
              "      <th></th>\n",
              "      <th>duration</th>\n",
              "      <th>category</th>\n",
              "      <th>views</th>\n",
              "      <th>likes</th>\n",
              "      <th>dislikes</th>\n",
              "      <th>comment</th>\n",
              "    </tr>\n",
              "  </thead>\n",
              "  <tbody>\n",
              "    <tr>\n",
              "      <th>0</th>\n",
              "      <td>457</td>\n",
              "      <td>5</td>\n",
              "      <td>1031602.0</td>\n",
              "      <td>8523.0</td>\n",
              "      <td>363.0</td>\n",
              "      <td>1095.0</td>\n",
              "    </tr>\n",
              "    <tr>\n",
              "      <th>1</th>\n",
              "      <td>570</td>\n",
              "      <td>3</td>\n",
              "      <td>1707.0</td>\n",
              "      <td>56.0</td>\n",
              "      <td>2.0</td>\n",
              "      <td>6.0</td>\n",
              "    </tr>\n",
              "    <tr>\n",
              "      <th>2</th>\n",
              "      <td>136</td>\n",
              "      <td>2</td>\n",
              "      <td>2023.0</td>\n",
              "      <td>25.0</td>\n",
              "      <td>0.0</td>\n",
              "      <td>2.0</td>\n",
              "    </tr>\n",
              "    <tr>\n",
              "      <th>3</th>\n",
              "      <td>262</td>\n",
              "      <td>7</td>\n",
              "      <td>620860.0</td>\n",
              "      <td>777.0</td>\n",
              "      <td>161.0</td>\n",
              "      <td>153.0</td>\n",
              "    </tr>\n",
              "    <tr>\n",
              "      <th>4</th>\n",
              "      <td>31</td>\n",
              "      <td>3</td>\n",
              "      <td>666.0</td>\n",
              "      <td>1.0</td>\n",
              "      <td>0.0</td>\n",
              "      <td>0.0</td>\n",
              "    </tr>\n",
              "    <tr>\n",
              "      <th>...</th>\n",
              "      <td>...</td>\n",
              "      <td>...</td>\n",
              "      <td>...</td>\n",
              "      <td>...</td>\n",
              "      <td>...</td>\n",
              "      <td>...</td>\n",
              "    </tr>\n",
              "    <tr>\n",
              "      <th>14994</th>\n",
              "      <td>370</td>\n",
              "      <td>0</td>\n",
              "      <td>525949.0</td>\n",
              "      <td>1137.0</td>\n",
              "      <td>83.0</td>\n",
              "      <td>86.0</td>\n",
              "    </tr>\n",
              "    <tr>\n",
              "      <th>14995</th>\n",
              "      <td>236</td>\n",
              "      <td>3</td>\n",
              "      <td>665673.0</td>\n",
              "      <td>3849.0</td>\n",
              "      <td>156.0</td>\n",
              "      <td>569.0</td>\n",
              "    </tr>\n",
              "    <tr>\n",
              "      <th>14996</th>\n",
              "      <td>193</td>\n",
              "      <td>1</td>\n",
              "      <td>3479.0</td>\n",
              "      <td>16.0</td>\n",
              "      <td>1.0</td>\n",
              "      <td>1.0</td>\n",
              "    </tr>\n",
              "    <tr>\n",
              "      <th>14997</th>\n",
              "      <td>26</td>\n",
              "      <td>6</td>\n",
              "      <td>963.0</td>\n",
              "      <td>0.0</td>\n",
              "      <td>0.0</td>\n",
              "      <td>0.0</td>\n",
              "    </tr>\n",
              "    <tr>\n",
              "      <th>14998</th>\n",
              "      <td>61</td>\n",
              "      <td>3</td>\n",
              "      <td>15212.0</td>\n",
              "      <td>22.0</td>\n",
              "      <td>5.0</td>\n",
              "      <td>4.0</td>\n",
              "    </tr>\n",
              "  </tbody>\n",
              "</table>\n",
              "<p>14999 rows × 6 columns</p>\n",
              "</div>"
            ],
            "text/plain": [
              "       duration  category      views   likes  dislikes  comment\n",
              "0           457         5  1031602.0  8523.0     363.0   1095.0\n",
              "1           570         3     1707.0    56.0       2.0      6.0\n",
              "2           136         2     2023.0    25.0       0.0      2.0\n",
              "3           262         7   620860.0   777.0     161.0    153.0\n",
              "4            31         3      666.0     1.0       0.0      0.0\n",
              "...         ...       ...        ...     ...       ...      ...\n",
              "14994       370         0   525949.0  1137.0      83.0     86.0\n",
              "14995       236         3   665673.0  3849.0     156.0    569.0\n",
              "14996       193         1     3479.0    16.0       1.0      1.0\n",
              "14997        26         6      963.0     0.0       0.0      0.0\n",
              "14998        61         3    15212.0    22.0       5.0      4.0\n",
              "\n",
              "[14999 rows x 6 columns]"
            ]
          },
          "metadata": {
            "tags": []
          },
          "execution_count": 27
        }
      ]
    },
    {
      "cell_type": "markdown",
      "metadata": {
        "id": "roTkNAy7diR8"
      },
      "source": [
        "*Copying the columns of original dataset to another dataset(ds-includes above conversions) so that no changes are made to original dataset*"
      ]
    },
    {
      "cell_type": "code",
      "metadata": {
        "id": "GhgR0a_HJL1T",
        "outputId": "a7ccfcc3-1bb5-42b6-8b80-a046eb186c67",
        "colab": {
          "base_uri": "https://localhost:8080/",
          "height": 404
        }
      },
      "source": [
        "ds[\"vidid\"]=dataset[\"vidid\"]\n",
        "ds[\"published\"]=dataset[\"published\"]\n",
        "ds[\"adview\"]=dataset[\"adview\"]\n",
        "ds=ds[[\"vidid\",\"published\",\"views\",\"likes\",\"dislikes\",\"comment\",\"category\",\"duration\",\"adview\"]]\n",
        "ds"
      ],
      "execution_count": 28,
      "outputs": [
        {
          "output_type": "execute_result",
          "data": {
            "text/html": [
              "<div>\n",
              "<style scoped>\n",
              "    .dataframe tbody tr th:only-of-type {\n",
              "        vertical-align: middle;\n",
              "    }\n",
              "\n",
              "    .dataframe tbody tr th {\n",
              "        vertical-align: top;\n",
              "    }\n",
              "\n",
              "    .dataframe thead th {\n",
              "        text-align: right;\n",
              "    }\n",
              "</style>\n",
              "<table border=\"1\" class=\"dataframe\">\n",
              "  <thead>\n",
              "    <tr style=\"text-align: right;\">\n",
              "      <th></th>\n",
              "      <th>vidid</th>\n",
              "      <th>published</th>\n",
              "      <th>views</th>\n",
              "      <th>likes</th>\n",
              "      <th>dislikes</th>\n",
              "      <th>comment</th>\n",
              "      <th>category</th>\n",
              "      <th>duration</th>\n",
              "      <th>adview</th>\n",
              "    </tr>\n",
              "  </thead>\n",
              "  <tbody>\n",
              "    <tr>\n",
              "      <th>0</th>\n",
              "      <td>VID_18655</td>\n",
              "      <td>9/14/2016</td>\n",
              "      <td>1031602.0</td>\n",
              "      <td>8523.0</td>\n",
              "      <td>363.0</td>\n",
              "      <td>1095.0</td>\n",
              "      <td>5</td>\n",
              "      <td>457</td>\n",
              "      <td>40</td>\n",
              "    </tr>\n",
              "    <tr>\n",
              "      <th>1</th>\n",
              "      <td>VID_14135</td>\n",
              "      <td>10/1/2016</td>\n",
              "      <td>1707.0</td>\n",
              "      <td>56.0</td>\n",
              "      <td>2.0</td>\n",
              "      <td>6.0</td>\n",
              "      <td>3</td>\n",
              "      <td>570</td>\n",
              "      <td>2</td>\n",
              "    </tr>\n",
              "    <tr>\n",
              "      <th>2</th>\n",
              "      <td>VID_2187</td>\n",
              "      <td>7/2/2016</td>\n",
              "      <td>2023.0</td>\n",
              "      <td>25.0</td>\n",
              "      <td>0.0</td>\n",
              "      <td>2.0</td>\n",
              "      <td>2</td>\n",
              "      <td>136</td>\n",
              "      <td>1</td>\n",
              "    </tr>\n",
              "    <tr>\n",
              "      <th>3</th>\n",
              "      <td>VID_23096</td>\n",
              "      <td>7/27/2016</td>\n",
              "      <td>620860.0</td>\n",
              "      <td>777.0</td>\n",
              "      <td>161.0</td>\n",
              "      <td>153.0</td>\n",
              "      <td>7</td>\n",
              "      <td>262</td>\n",
              "      <td>6</td>\n",
              "    </tr>\n",
              "    <tr>\n",
              "      <th>4</th>\n",
              "      <td>VID_10175</td>\n",
              "      <td>6/29/2016</td>\n",
              "      <td>666.0</td>\n",
              "      <td>1.0</td>\n",
              "      <td>0.0</td>\n",
              "      <td>0.0</td>\n",
              "      <td>3</td>\n",
              "      <td>31</td>\n",
              "      <td>1</td>\n",
              "    </tr>\n",
              "    <tr>\n",
              "      <th>...</th>\n",
              "      <td>...</td>\n",
              "      <td>...</td>\n",
              "      <td>...</td>\n",
              "      <td>...</td>\n",
              "      <td>...</td>\n",
              "      <td>...</td>\n",
              "      <td>...</td>\n",
              "      <td>...</td>\n",
              "      <td>...</td>\n",
              "    </tr>\n",
              "    <tr>\n",
              "      <th>14994</th>\n",
              "      <td>VID_31</td>\n",
              "      <td>5/18/2015</td>\n",
              "      <td>525949.0</td>\n",
              "      <td>1137.0</td>\n",
              "      <td>83.0</td>\n",
              "      <td>86.0</td>\n",
              "      <td>0</td>\n",
              "      <td>370</td>\n",
              "      <td>2</td>\n",
              "    </tr>\n",
              "    <tr>\n",
              "      <th>14995</th>\n",
              "      <td>VID_5861</td>\n",
              "      <td>10/20/2015</td>\n",
              "      <td>665673.0</td>\n",
              "      <td>3849.0</td>\n",
              "      <td>156.0</td>\n",
              "      <td>569.0</td>\n",
              "      <td>3</td>\n",
              "      <td>236</td>\n",
              "      <td>1</td>\n",
              "    </tr>\n",
              "    <tr>\n",
              "      <th>14996</th>\n",
              "      <td>VID_805</td>\n",
              "      <td>8/23/2013</td>\n",
              "      <td>3479.0</td>\n",
              "      <td>16.0</td>\n",
              "      <td>1.0</td>\n",
              "      <td>1.0</td>\n",
              "      <td>1</td>\n",
              "      <td>193</td>\n",
              "      <td>4</td>\n",
              "    </tr>\n",
              "    <tr>\n",
              "      <th>14997</th>\n",
              "      <td>VID_19843</td>\n",
              "      <td>10/2/2010</td>\n",
              "      <td>963.0</td>\n",
              "      <td>0.0</td>\n",
              "      <td>0.0</td>\n",
              "      <td>0.0</td>\n",
              "      <td>6</td>\n",
              "      <td>26</td>\n",
              "      <td>1</td>\n",
              "    </tr>\n",
              "    <tr>\n",
              "      <th>14998</th>\n",
              "      <td>VID_8534</td>\n",
              "      <td>2/19/2016</td>\n",
              "      <td>15212.0</td>\n",
              "      <td>22.0</td>\n",
              "      <td>5.0</td>\n",
              "      <td>4.0</td>\n",
              "      <td>3</td>\n",
              "      <td>61</td>\n",
              "      <td>1</td>\n",
              "    </tr>\n",
              "  </tbody>\n",
              "</table>\n",
              "<p>14999 rows × 9 columns</p>\n",
              "</div>"
            ],
            "text/plain": [
              "           vidid   published      views  ...  category  duration  adview\n",
              "0      VID_18655   9/14/2016  1031602.0  ...         5       457      40\n",
              "1      VID_14135   10/1/2016     1707.0  ...         3       570       2\n",
              "2       VID_2187    7/2/2016     2023.0  ...         2       136       1\n",
              "3      VID_23096   7/27/2016   620860.0  ...         7       262       6\n",
              "4      VID_10175   6/29/2016      666.0  ...         3        31       1\n",
              "...          ...         ...        ...  ...       ...       ...     ...\n",
              "14994     VID_31   5/18/2015   525949.0  ...         0       370       2\n",
              "14995   VID_5861  10/20/2015   665673.0  ...         3       236       1\n",
              "14996    VID_805   8/23/2013     3479.0  ...         1       193       4\n",
              "14997  VID_19843   10/2/2010      963.0  ...         6        26       1\n",
              "14998   VID_8534   2/19/2016    15212.0  ...         3        61       1\n",
              "\n",
              "[14999 rows x 9 columns]"
            ]
          },
          "metadata": {
            "tags": []
          },
          "execution_count": 28
        }
      ]
    },
    {
      "cell_type": "code",
      "metadata": {
        "id": "72w5G0m2AQrb",
        "outputId": "40a22226-dd31-464c-b3e0-d1c19f61304e",
        "colab": {
          "base_uri": "https://localhost:8080/",
          "height": 265
        }
      },
      "source": [
        "plt.hist(ds[\"category\"],bins=[0,1,2,3,4,5,6,7,8])\n",
        "plt.show()"
      ],
      "execution_count": 29,
      "outputs": [
        {
          "output_type": "display_data",
          "data": {
            "image/png": "[encoded data removed]",
            "text/plain": [
              "<Figure size 432x288 with 1 Axes>"
            ]
          },
          "metadata": {
            "tags": [],
            "needs_background": "light"
          }
        }
      ]
    },
    {
      "cell_type": "code",
      "metadata": {
        "id": "Zi-8Kk1LA4NV",
        "outputId": "3689f843-ed0d-45c6-fdaf-f3556ccef0bc",
        "colab": {
          "base_uri": "https://localhost:8080/",
          "height": 276
        }
      },
      "source": [
        "plt.scatter(ds[[\"category\"]],ds[[\"adview\"]])\n",
        "plt.show()"
      ],
      "execution_count": 30,
      "outputs": [
        {
          "output_type": "display_data",
          "data": {
            "image/png": "[encoded data removed]",
            "text/plain": [
              "<Figure size 432x288 with 1 Axes>"
            ]
          },
          "metadata": {
            "tags": [],
            "needs_background": "light"
          }
        }
      ]
    },
    {
      "cell_type": "markdown",
      "metadata": {
        "id": "ASwFpYxwfie0"
      },
      "source": [
        "***(5) Normalise your data and split the data***"
      ]
    },
    {
      "cell_type": "markdown",
      "metadata": {
        "id": "SdA_eG1Qe9H2"
      },
      "source": [
        "*Slicing operation and removing missing values*"
      ]
    },
    {
      "cell_type": "code",
      "metadata": {
        "id": "YSsYYDa9L2oA",
        "outputId": "08ce16ab-cbb9-46a8-8d00-b5e0d16f3568",
        "colab": {
          "base_uri": "https://localhost:8080/",
          "height": 404
        }
      },
      "source": [
        "ds.iloc[:,-2:8]\n",
        "ds.iloc[:,2:8].values\n",
        "ds=ds.dropna()\n",
        "ds"
      ],
      "execution_count": 35,
      "outputs": [
        {
          "output_type": "execute_result",
          "data": {
            "text/html": [
              "<div>\n",
              "<style scoped>\n",
              "    .dataframe tbody tr th:only-of-type {\n",
              "        vertical-align: middle;\n",
              "    }\n",
              "\n",
              "    .dataframe tbody tr th {\n",
              "        vertical-align: top;\n",
              "    }\n",
              "\n",
              "    .dataframe thead th {\n",
              "        text-align: right;\n",
              "    }\n",
              "</style>\n",
              "<table border=\"1\" class=\"dataframe\">\n",
              "  <thead>\n",
              "    <tr style=\"text-align: right;\">\n",
              "      <th></th>\n",
              "      <th>vidid</th>\n",
              "      <th>published</th>\n",
              "      <th>views</th>\n",
              "      <th>likes</th>\n",
              "      <th>dislikes</th>\n",
              "      <th>comment</th>\n",
              "      <th>category</th>\n",
              "      <th>duration</th>\n",
              "      <th>adview</th>\n",
              "    </tr>\n",
              "  </thead>\n",
              "  <tbody>\n",
              "    <tr>\n",
              "      <th>0</th>\n",
              "      <td>VID_18655</td>\n",
              "      <td>9/14/2016</td>\n",
              "      <td>1031602.0</td>\n",
              "      <td>8523.0</td>\n",
              "      <td>363.0</td>\n",
              "      <td>1095.0</td>\n",
              "      <td>5</td>\n",
              "      <td>457</td>\n",
              "      <td>40</td>\n",
              "    </tr>\n",
              "    <tr>\n",
              "      <th>1</th>\n",
              "      <td>VID_14135</td>\n",
              "      <td>10/1/2016</td>\n",
              "      <td>1707.0</td>\n",
              "      <td>56.0</td>\n",
              "      <td>2.0</td>\n",
              "      <td>6.0</td>\n",
              "      <td>3</td>\n",
              "      <td>570</td>\n",
              "      <td>2</td>\n",
              "    </tr>\n",
              "    <tr>\n",
              "      <th>2</th>\n",
              "      <td>VID_2187</td>\n",
              "      <td>7/2/2016</td>\n",
              "      <td>2023.0</td>\n",
              "      <td>25.0</td>\n",
              "      <td>0.0</td>\n",
              "      <td>2.0</td>\n",
              "      <td>2</td>\n",
              "      <td>136</td>\n",
              "      <td>1</td>\n",
              "    </tr>\n",
              "    <tr>\n",
              "      <th>3</th>\n",
              "      <td>VID_23096</td>\n",
              "      <td>7/27/2016</td>\n",
              "      <td>620860.0</td>\n",
              "      <td>777.0</td>\n",
              "      <td>161.0</td>\n",
              "      <td>153.0</td>\n",
              "      <td>7</td>\n",
              "      <td>262</td>\n",
              "      <td>6</td>\n",
              "    </tr>\n",
              "    <tr>\n",
              "      <th>4</th>\n",
              "      <td>VID_10175</td>\n",
              "      <td>6/29/2016</td>\n",
              "      <td>666.0</td>\n",
              "      <td>1.0</td>\n",
              "      <td>0.0</td>\n",
              "      <td>0.0</td>\n",
              "      <td>3</td>\n",
              "      <td>31</td>\n",
              "      <td>1</td>\n",
              "    </tr>\n",
              "    <tr>\n",
              "      <th>...</th>\n",
              "      <td>...</td>\n",
              "      <td>...</td>\n",
              "      <td>...</td>\n",
              "      <td>...</td>\n",
              "      <td>...</td>\n",
              "      <td>...</td>\n",
              "      <td>...</td>\n",
              "      <td>...</td>\n",
              "      <td>...</td>\n",
              "    </tr>\n",
              "    <tr>\n",
              "      <th>14994</th>\n",
              "      <td>VID_31</td>\n",
              "      <td>5/18/2015</td>\n",
              "      <td>525949.0</td>\n",
              "      <td>1137.0</td>\n",
              "      <td>83.0</td>\n",
              "      <td>86.0</td>\n",
              "      <td>0</td>\n",
              "      <td>370</td>\n",
              "      <td>2</td>\n",
              "    </tr>\n",
              "    <tr>\n",
              "      <th>14995</th>\n",
              "      <td>VID_5861</td>\n",
              "      <td>10/20/2015</td>\n",
              "      <td>665673.0</td>\n",
              "      <td>3849.0</td>\n",
              "      <td>156.0</td>\n",
              "      <td>569.0</td>\n",
              "      <td>3</td>\n",
              "      <td>236</td>\n",
              "      <td>1</td>\n",
              "    </tr>\n",
              "    <tr>\n",
              "      <th>14996</th>\n",
              "      <td>VID_805</td>\n",
              "      <td>8/23/2013</td>\n",
              "      <td>3479.0</td>\n",
              "      <td>16.0</td>\n",
              "      <td>1.0</td>\n",
              "      <td>1.0</td>\n",
              "      <td>1</td>\n",
              "      <td>193</td>\n",
              "      <td>4</td>\n",
              "    </tr>\n",
              "    <tr>\n",
              "      <th>14997</th>\n",
              "      <td>VID_19843</td>\n",
              "      <td>10/2/2010</td>\n",
              "      <td>963.0</td>\n",
              "      <td>0.0</td>\n",
              "      <td>0.0</td>\n",
              "      <td>0.0</td>\n",
              "      <td>6</td>\n",
              "      <td>26</td>\n",
              "      <td>1</td>\n",
              "    </tr>\n",
              "    <tr>\n",
              "      <th>14998</th>\n",
              "      <td>VID_8534</td>\n",
              "      <td>2/19/2016</td>\n",
              "      <td>15212.0</td>\n",
              "      <td>22.0</td>\n",
              "      <td>5.0</td>\n",
              "      <td>4.0</td>\n",
              "      <td>3</td>\n",
              "      <td>61</td>\n",
              "      <td>1</td>\n",
              "    </tr>\n",
              "  </tbody>\n",
              "</table>\n",
              "<p>14636 rows × 9 columns</p>\n",
              "</div>"
            ],
            "text/plain": [
              "           vidid   published      views  ...  category  duration  adview\n",
              "0      VID_18655   9/14/2016  1031602.0  ...         5       457      40\n",
              "1      VID_14135   10/1/2016     1707.0  ...         3       570       2\n",
              "2       VID_2187    7/2/2016     2023.0  ...         2       136       1\n",
              "3      VID_23096   7/27/2016   620860.0  ...         7       262       6\n",
              "4      VID_10175   6/29/2016      666.0  ...         3        31       1\n",
              "...          ...         ...        ...  ...       ...       ...     ...\n",
              "14994     VID_31   5/18/2015   525949.0  ...         0       370       2\n",
              "14995   VID_5861  10/20/2015   665673.0  ...         3       236       1\n",
              "14996    VID_805   8/23/2013     3479.0  ...         1       193       4\n",
              "14997  VID_19843   10/2/2010      963.0  ...         6        26       1\n",
              "14998   VID_8534   2/19/2016    15212.0  ...         3        61       1\n",
              "\n",
              "[14636 rows x 9 columns]"
            ]
          },
          "metadata": {
            "tags": []
          },
          "execution_count": 35
        }
      ]
    },
    {
      "cell_type": "markdown",
      "metadata": {
        "id": "gY3-WTJoPYV8"
      },
      "source": [
        "Normalising Data"
      ]
    },
    {
      "cell_type": "code",
      "metadata": {
        "id": "ifjxprb_PMmh",
        "outputId": "b1e85a08-9edf-4b0f-f91a-fc39f5d4e530",
        "colab": {
          "base_uri": "https://localhost:8080/",
          "height": 404
        }
      },
      "source": [
        "from sklearn.preprocessing import MinMaxScaler\n",
        "scaler = MinMaxScaler()\n",
        "ds_train=pd.DataFrame(scaler.fit_transform(ds.iloc[:,2:-1]))\n",
        "ds_train"
      ],
      "execution_count": 39,
      "outputs": [
        {
          "output_type": "execute_result",
          "data": {
            "text/html": [
              "<div>\n",
              "<style scoped>\n",
              "    .dataframe tbody tr th:only-of-type {\n",
              "        vertical-align: middle;\n",
              "    }\n",
              "\n",
              "    .dataframe tbody tr th {\n",
              "        vertical-align: top;\n",
              "    }\n",
              "\n",
              "    .dataframe thead th {\n",
              "        text-align: right;\n",
              "    }\n",
              "</style>\n",
              "<table border=\"1\" class=\"dataframe\">\n",
              "  <thead>\n",
              "    <tr style=\"text-align: right;\">\n",
              "      <th></th>\n",
              "      <th>0</th>\n",
              "      <th>1</th>\n",
              "      <th>2</th>\n",
              "      <th>3</th>\n",
              "      <th>4</th>\n",
              "      <th>5</th>\n",
              "    </tr>\n",
              "  </thead>\n",
              "  <tbody>\n",
              "    <tr>\n",
              "      <th>0</th>\n",
              "      <td>0.007472</td>\n",
              "      <td>0.030029</td>\n",
              "      <td>0.007341</td>\n",
              "      <td>0.014591</td>\n",
              "      <td>0.714286</td>\n",
              "      <td>0.010799</td>\n",
              "    </tr>\n",
              "    <tr>\n",
              "      <th>1</th>\n",
              "      <td>0.000012</td>\n",
              "      <td>0.000197</td>\n",
              "      <td>0.000040</td>\n",
              "      <td>0.000080</td>\n",
              "      <td>0.428571</td>\n",
              "      <td>0.013470</td>\n",
              "    </tr>\n",
              "    <tr>\n",
              "      <th>2</th>\n",
              "      <td>0.000014</td>\n",
              "      <td>0.000088</td>\n",
              "      <td>0.000000</td>\n",
              "      <td>0.000027</td>\n",
              "      <td>0.285714</td>\n",
              "      <td>0.003214</td>\n",
              "    </tr>\n",
              "    <tr>\n",
              "      <th>3</th>\n",
              "      <td>0.004497</td>\n",
              "      <td>0.002738</td>\n",
              "      <td>0.003256</td>\n",
              "      <td>0.002039</td>\n",
              "      <td>1.000000</td>\n",
              "      <td>0.006191</td>\n",
              "    </tr>\n",
              "    <tr>\n",
              "      <th>4</th>\n",
              "      <td>0.000004</td>\n",
              "      <td>0.000004</td>\n",
              "      <td>0.000000</td>\n",
              "      <td>0.000000</td>\n",
              "      <td>0.428571</td>\n",
              "      <td>0.000733</td>\n",
              "    </tr>\n",
              "    <tr>\n",
              "      <th>...</th>\n",
              "      <td>...</td>\n",
              "      <td>...</td>\n",
              "      <td>...</td>\n",
              "      <td>...</td>\n",
              "      <td>...</td>\n",
              "      <td>...</td>\n",
              "    </tr>\n",
              "    <tr>\n",
              "      <th>14631</th>\n",
              "      <td>0.003810</td>\n",
              "      <td>0.004006</td>\n",
              "      <td>0.001678</td>\n",
              "      <td>0.001146</td>\n",
              "      <td>0.000000</td>\n",
              "      <td>0.008744</td>\n",
              "    </tr>\n",
              "    <tr>\n",
              "      <th>14632</th>\n",
              "      <td>0.004822</td>\n",
              "      <td>0.013561</td>\n",
              "      <td>0.003155</td>\n",
              "      <td>0.007582</td>\n",
              "      <td>0.428571</td>\n",
              "      <td>0.005577</td>\n",
              "    </tr>\n",
              "    <tr>\n",
              "      <th>14633</th>\n",
              "      <td>0.000025</td>\n",
              "      <td>0.000056</td>\n",
              "      <td>0.000020</td>\n",
              "      <td>0.000013</td>\n",
              "      <td>0.142857</td>\n",
              "      <td>0.004561</td>\n",
              "    </tr>\n",
              "    <tr>\n",
              "      <th>14634</th>\n",
              "      <td>0.000007</td>\n",
              "      <td>0.000000</td>\n",
              "      <td>0.000000</td>\n",
              "      <td>0.000000</td>\n",
              "      <td>0.857143</td>\n",
              "      <td>0.000614</td>\n",
              "    </tr>\n",
              "    <tr>\n",
              "      <th>14635</th>\n",
              "      <td>0.000110</td>\n",
              "      <td>0.000078</td>\n",
              "      <td>0.000101</td>\n",
              "      <td>0.000053</td>\n",
              "      <td>0.428571</td>\n",
              "      <td>0.001442</td>\n",
              "    </tr>\n",
              "  </tbody>\n",
              "</table>\n",
              "<p>14636 rows × 6 columns</p>\n",
              "</div>"
            ],
            "text/plain": [
              "              0         1         2         3         4         5\n",
              "0      0.007472  0.030029  0.007341  0.014591  0.714286  0.010799\n",
              "1      0.000012  0.000197  0.000040  0.000080  0.428571  0.013470\n",
              "2      0.000014  0.000088  0.000000  0.000027  0.285714  0.003214\n",
              "3      0.004497  0.002738  0.003256  0.002039  1.000000  0.006191\n",
              "4      0.000004  0.000004  0.000000  0.000000  0.428571  0.000733\n",
              "...         ...       ...       ...       ...       ...       ...\n",
              "14631  0.003810  0.004006  0.001678  0.001146  0.000000  0.008744\n",
              "14632  0.004822  0.013561  0.003155  0.007582  0.428571  0.005577\n",
              "14633  0.000025  0.000056  0.000020  0.000013  0.142857  0.004561\n",
              "14634  0.000007  0.000000  0.000000  0.000000  0.857143  0.000614\n",
              "14635  0.000110  0.000078  0.000101  0.000053  0.428571  0.001442\n",
              "\n",
              "[14636 rows x 6 columns]"
            ]
          },
          "metadata": {
            "tags": []
          },
          "execution_count": 39
        }
      ]
    },
    {
      "cell_type": "code",
      "metadata": {
        "id": "2cY-tWy4Ud6B",
        "outputId": "2119aba4-bd9c-4f1f-fa99-a223a1d9d0c5",
        "colab": {
          "base_uri": "https://localhost:8080/",
          "height": 33
        }
      },
      "source": [
        "from sklearn.model_selection import train_test_split\n",
        "x_train,x_test, y_train, y_test = train_test_split(ds_train.iloc[:,:-1].values,ds.iloc[:,-1:].values, test_size=0.2, random_state=42)\n",
        "x_train.shape"
      ],
      "execution_count": 40,
      "outputs": [
        {
          "output_type": "execute_result",
          "data": {
            "text/plain": [
              "(11708, 5)"
            ]
          },
          "metadata": {
            "tags": []
          },
          "execution_count": 40
        }
      ]
    },
    {
      "cell_type": "markdown",
      "metadata": {
        "id": "4p7FRzbrqImA"
      },
      "source": [
        "***(6) Use linear regression, Support Vector Regressor for training and get errors.***"
      ]
    },
    {
      "cell_type": "markdown",
      "metadata": {
        "id": "taL06UjuW5ng"
      },
      "source": [
        "***Testing using different models***"
      ]
    },
    {
      "cell_type": "code",
      "metadata": {
        "id": "hXznI7R4XKZq"
      },
      "source": [
        "#Finding errors\n",
        "from sklearn import metrics\n",
        "mae=[0,0,0,0,0]\n",
        "mse=[0,0,0,0,0]\n",
        "rmse=[0,0,0,0,0]\n",
        "def print_error(x_test, y_test, model_name):\n",
        "  prediction = model_name.predict(x_test)\n",
        "  a=metrics.mean_absolute_error(y_test, prediction)\n",
        "  b=metrics.mean_squared_error(y_test, prediction)\n",
        "  c=np.sqrt(b)\n",
        "  print('Mean Absolute Error:', a)\n",
        "  print('Mean Squared Error:', b)\n",
        "  print('Root Mean Squared Error:', c)\n",
        "  return ([a,b,c])"
      ],
      "execution_count": 60,
      "outputs": []
    },
    {
      "cell_type": "code",
      "metadata": {
        "id": "uy0WbjpZXwq-",
        "outputId": "0bb6a6bb-f37b-44a1-b6d7-6a59e0133ec4",
        "colab": {
          "base_uri": "https://localhost:8080/",
          "height": 67
        }
      },
      "source": [
        "# Linear Regression\n",
        "from sklearn import linear_model\n",
        "linear_regression = linear_model.LinearRegression()\n",
        "linear_regression.fit(x_train, y_train)\n",
        "mae[0],mse[0],rmse[0]=print_error(x_test,y_test, linear_regression)"
      ],
      "execution_count": 61,
      "outputs": [
        {
          "output_type": "stream",
          "text": [
            "Mean Absolute Error: 3289.1044300340054\n",
            "Mean Squared Error: 834776519.5864196\n",
            "Root Mean Squared Error: 28892.499365517335\n"
          ],
          "name": "stdout"
        }
      ]
    },
    {
      "cell_type": "code",
      "metadata": {
        "id": "YmaVrBUvX_iX",
        "outputId": "4e422f41-8472-41ad-b541-e4ec958d643f",
        "colab": {
          "base_uri": "https://localhost:8080/",
          "height": 67
        }
      },
      "source": [
        "# Support Vector Regressor\n",
        "from sklearn.svm import SVR\n",
        "supportvector_regressor = SVR()\n",
        "supportvector_regressor.fit(x_train,y_train.ravel())\n",
        "mae[1],mse[1],rmse[1]=print_error(x_test,y_test, supportvector_regressor)"
      ],
      "execution_count": 62,
      "outputs": [
        {
          "output_type": "stream",
          "text": [
            "Mean Absolute Error: 1696.9638971812276\n",
            "Mean Squared Error: 833686249.874528\n",
            "Root Mean Squared Error: 28873.625506238874\n"
          ],
          "name": "stdout"
        }
      ]
    },
    {
      "cell_type": "markdown",
      "metadata": {
        "id": "jdxtSf0NqV70"
      },
      "source": [
        "***(7) Use Decision Tree Regressor and Random Forest Regressors***"
      ]
    },
    {
      "cell_type": "code",
      "metadata": {
        "id": "fmV7obeIczfI",
        "outputId": "8edcde43-90d2-4e27-ab6e-a30ae7949c4f",
        "colab": {
          "base_uri": "https://localhost:8080/",
          "height": 67
        }
      },
      "source": [
        "# Decision Tree Regressor\n",
        "from sklearn.tree import DecisionTreeRegressor\n",
        "decision_tree = DecisionTreeRegressor()\n",
        "decision_tree.fit(x_train, y_train)\n",
        "mae[2],mse[2],rmse[2]=print_error(x_test,y_test, decision_tree)"
      ],
      "execution_count": 63,
      "outputs": [
        {
          "output_type": "stream",
          "text": [
            "Mean Absolute Error: 3552.4015539617485\n",
            "Mean Squared Error: 1793699016.2299008\n",
            "Root Mean Squared Error: 42352.08396560789\n"
          ],
          "name": "stdout"
        }
      ]
    },
    {
      "cell_type": "code",
      "metadata": {
        "id": "WBF7mGOzdC5J",
        "outputId": "cb6b296b-3313-4a75-ea4c-395e91ee4dcf",
        "colab": {
          "base_uri": "https://localhost:8080/",
          "height": 67
        }
      },
      "source": [
        "# Random Forest Regressor\n",
        "from sklearn.ensemble import RandomForestRegressor\n",
        "n_estimators = 200\n",
        "max_depth = 25\n",
        "min_samples_split=15\n",
        "min_samples_leaf=2\n",
        "random_forest = RandomForestRegressor(n_estimators = n_estimators, max_depth = max_depth, min_samples_split=min_samples_split)\n",
        "random_forest.fit(x_train,y_train.ravel())\n",
        "mae[3],mse[3],rmse[3]=print_error(x_test,y_test, random_forest)"
      ],
      "execution_count": 64,
      "outputs": [
        {
          "output_type": "stream",
          "text": [
            "Mean Absolute Error: 3225.9794486945475\n",
            "Mean Squared Error: 872734352.9240614\n",
            "Root Mean Squared Error: 29542.077667693946\n"
          ],
          "name": "stdout"
        }
      ]
    },
    {
      "cell_type": "markdown",
      "metadata": {
        "id": "cxlEqCmvqbMU"
      },
      "source": [
        "*Heat map*"
      ]
    },
    {
      "cell_type": "code",
      "metadata": {
        "id": "e0PZGKRtAbN_",
        "outputId": "b2bc8b33-39ef-41d3-cda3-f77c41e62543",
        "colab": {
          "base_uri": "https://localhost:8080/",
          "height": 487
        }
      },
      "source": [
        "import seaborn as sns\n",
        "f, ax = plt.subplots(figsize=(10, 8))\n",
        "corr = ds.corr()\n",
        "sns.heatmap(corr, mask=np.zeros_like(corr, dtype=np.bool), cmap=sns.diverging_palette(220, 10, as_cmap=True),\n",
        "square=True, ax=ax,annot=True)\n",
        "plt.show()"
      ],
      "execution_count": 36,
      "outputs": [
        {
          "output_type": "display_data",
          "data": {
            "image/png": "[encoded data removed]",
            "text/plain": [
              "<Figure size 720x576 with 2 Axes>"
            ]
          },
          "metadata": {
            "tags": [],
            "needs_background": "light"
          }
        }
      ]
    },
    {
      "cell_type": "markdown",
      "metadata": {
        "id": "Z9lE1YTuqioM"
      },
      "source": [
        "***(8) Build an artificial neural network and train it with different layers\n",
        "and hyperparameters. Use keras.***"
      ]
    },
    {
      "cell_type": "code",
      "metadata": {
        "id": "pP3H0NMqC437",
        "outputId": "5a977794-61b6-485f-f961-5c69eb379bcd",
        "colab": {
          "base_uri": "https://localhost:8080/",
          "height": 1000
        }
      },
      "source": [
        "# Artificial Neural Network\n",
        "import keras\n",
        "from keras.layers import Dense\n",
        "ann = keras.models.Sequential([\n",
        "                                Dense(6, activation=\"relu\",\n",
        "                                input_shape=x_train.shape[1:]),\n",
        "                                Dense(6,activation=\"relu\"), \n",
        "                                Dense(1)\n",
        "                                ])\n",
        "optimizer=keras.optimizers.Adam()\n",
        "loss=keras.losses.mean_squared_error\n",
        "ann.compile(optimizer=optimizer,loss=loss,metrics=[\"mean_squared_error\"])\n",
        "history=ann.fit(x_train,y_train,epochs=100)\n",
        "ann.summary()\n",
        "mae[4],mse[4],rmse[4]=print_error(x_test,y_test,ann)"
      ],
      "execution_count": 65,
      "outputs": [
        {
          "output_type": "stream",
          "text": [
            "Epoch 1/100\n",
            "366/366 [==============================] - 0s 1ms/step - loss: 767405760.0000 - mean_squared_error: 767405760.0000\n",
            "Epoch 2/100\n",
            "366/366 [==============================] - 0s 972us/step - loss: 767400704.0000 - mean_squared_error: 767400704.0000\n",
            "Epoch 3/100\n",
            "366/366 [==============================] - 0s 1ms/step - loss: 767389184.0000 - mean_squared_error: 767389184.0000\n",
            "Epoch 4/100\n",
            "366/366 [==============================] - 0s 991us/step - loss: 767368128.0000 - mean_squared_error: 767368128.0000\n",
            "Epoch 5/100\n",
            "366/366 [==============================] - 0s 951us/step - loss: 767335680.0000 - mean_squared_error: 767335680.0000\n",
            "Epoch 6/100\n",
            "366/366 [==============================] - 0s 1ms/step - loss: 767291840.0000 - mean_squared_error: 767291840.0000\n",
            "Epoch 7/100\n",
            "366/366 [==============================] - 0s 1ms/step - loss: 767236544.0000 - mean_squared_error: 767236544.0000\n",
            "Epoch 8/100\n",
            "366/366 [==============================] - 0s 1ms/step - loss: 767170752.0000 - mean_squared_error: 767170752.0000\n",
            "Epoch 9/100\n",
            "366/366 [==============================] - 0s 1ms/step - loss: 767095616.0000 - mean_squared_error: 767095616.0000\n",
            "Epoch 10/100\n",
            "366/366 [==============================] - 0s 992us/step - loss: 767008448.0000 - mean_squared_error: 767008448.0000\n",
            "Epoch 11/100\n",
            "366/366 [==============================] - 0s 1ms/step - loss: 766909504.0000 - mean_squared_error: 766909504.0000\n",
            "Epoch 12/100\n",
            "366/366 [==============================] - 0s 968us/step - loss: 766803648.0000 - mean_squared_error: 766803648.0000\n",
            "Epoch 13/100\n",
            "366/366 [==============================] - 0s 1ms/step - loss: 766691584.0000 - mean_squared_error: 766691584.0000\n",
            "Epoch 14/100\n",
            "366/366 [==============================] - 0s 1ms/step - loss: 766579712.0000 - mean_squared_error: 766579712.0000\n",
            "Epoch 15/100\n",
            "366/366 [==============================] - 0s 935us/step - loss: 766464832.0000 - mean_squared_error: 766464832.0000\n",
            "Epoch 16/100\n",
            "366/366 [==============================] - 0s 925us/step - loss: 766343104.0000 - mean_squared_error: 766343104.0000\n",
            "Epoch 17/100\n",
            "366/366 [==============================] - 0s 960us/step - loss: 766217152.0000 - mean_squared_error: 766217152.0000\n",
            "Epoch 18/100\n",
            "366/366 [==============================] - 0s 982us/step - loss: 766095296.0000 - mean_squared_error: 766095296.0000\n",
            "Epoch 19/100\n",
            "366/366 [==============================] - 0s 1ms/step - loss: 765979904.0000 - mean_squared_error: 765979904.0000\n",
            "Epoch 20/100\n",
            "366/366 [==============================] - 0s 1ms/step - loss: 765863680.0000 - mean_squared_error: 765863680.0000\n",
            "Epoch 21/100\n",
            "366/366 [==============================] - 0s 937us/step - loss: 765755520.0000 - mean_squared_error: 765755520.0000\n",
            "Epoch 22/100\n",
            "366/366 [==============================] - 0s 958us/step - loss: 765650496.0000 - mean_squared_error: 765650496.0000\n",
            "Epoch 23/100\n",
            "366/366 [==============================] - 0s 1ms/step - loss: 765551552.0000 - mean_squared_error: 765551552.0000\n",
            "Epoch 24/100\n",
            "366/366 [==============================] - 0s 986us/step - loss: 765455104.0000 - mean_squared_error: 765455104.0000\n",
            "Epoch 25/100\n",
            "366/366 [==============================] - 0s 960us/step - loss: 765366272.0000 - mean_squared_error: 765366272.0000\n",
            "Epoch 26/100\n",
            "366/366 [==============================] - 0s 945us/step - loss: 765284672.0000 - mean_squared_error: 765284672.0000\n",
            "Epoch 27/100\n",
            "366/366 [==============================] - 0s 938us/step - loss: 765209600.0000 - mean_squared_error: 765209600.0000\n",
            "Epoch 28/100\n",
            "366/366 [==============================] - 0s 999us/step - loss: 765136960.0000 - mean_squared_error: 765136960.0000\n",
            "Epoch 29/100\n",
            "366/366 [==============================] - 0s 931us/step - loss: 765070592.0000 - mean_squared_error: 765070592.0000\n",
            "Epoch 30/100\n",
            "366/366 [==============================] - 0s 1ms/step - loss: 765012928.0000 - mean_squared_error: 765012928.0000\n",
            "Epoch 31/100\n",
            "366/366 [==============================] - 0s 966us/step - loss: 764957440.0000 - mean_squared_error: 764957440.0000\n",
            "Epoch 32/100\n",
            "366/366 [==============================] - 0s 986us/step - loss: 764910016.0000 - mean_squared_error: 764910016.0000\n",
            "Epoch 33/100\n",
            "366/366 [==============================] - 0s 932us/step - loss: 764867584.0000 - mean_squared_error: 764867584.0000\n",
            "Epoch 34/100\n",
            "366/366 [==============================] - 0s 1ms/step - loss: 764825344.0000 - mean_squared_error: 764825344.0000\n",
            "Epoch 35/100\n",
            "366/366 [==============================] - 0s 988us/step - loss: 764787072.0000 - mean_squared_error: 764787072.0000\n",
            "Epoch 36/100\n",
            "366/366 [==============================] - 0s 1ms/step - loss: 764758336.0000 - mean_squared_error: 764758336.0000\n",
            "Epoch 37/100\n",
            "366/366 [==============================] - 0s 990us/step - loss: 764732736.0000 - mean_squared_error: 764732736.0000\n",
            "Epoch 38/100\n",
            "366/366 [==============================] - 0s 1ms/step - loss: 764706304.0000 - mean_squared_error: 764706304.0000\n",
            "Epoch 39/100\n",
            "366/366 [==============================] - 0s 1ms/step - loss: 764683008.0000 - mean_squared_error: 764683008.0000\n",
            "Epoch 40/100\n",
            "366/366 [==============================] - 0s 980us/step - loss: 764662592.0000 - mean_squared_error: 764662592.0000\n",
            "Epoch 41/100\n",
            "366/366 [==============================] - 0s 913us/step - loss: 764644480.0000 - mean_squared_error: 764644480.0000\n",
            "Epoch 42/100\n",
            "366/366 [==============================] - 0s 1ms/step - loss: 764628800.0000 - mean_squared_error: 764628800.0000\n",
            "Epoch 43/100\n",
            "366/366 [==============================] - 0s 913us/step - loss: 764614464.0000 - mean_squared_error: 764614464.0000\n",
            "Epoch 44/100\n",
            "366/366 [==============================] - 0s 959us/step - loss: 764603840.0000 - mean_squared_error: 764603840.0000\n",
            "Epoch 45/100\n",
            "366/366 [==============================] - 0s 995us/step - loss: 764591296.0000 - mean_squared_error: 764591296.0000\n",
            "Epoch 46/100\n",
            "366/366 [==============================] - 0s 994us/step - loss: 764583040.0000 - mean_squared_error: 764583040.0000\n",
            "Epoch 47/100\n",
            "366/366 [==============================] - 0s 1ms/step - loss: 764572224.0000 - mean_squared_error: 764572224.0000\n",
            "Epoch 48/100\n",
            "366/366 [==============================] - 0s 1ms/step - loss: 764566464.0000 - mean_squared_error: 764566464.0000\n",
            "Epoch 49/100\n",
            "366/366 [==============================] - 0s 1ms/step - loss: 764559680.0000 - mean_squared_error: 764559680.0000\n",
            "Epoch 50/100\n",
            "366/366 [==============================] - 0s 1ms/step - loss: 764553152.0000 - mean_squared_error: 764553152.0000\n",
            "Epoch 51/100\n",
            "366/366 [==============================] - 0s 987us/step - loss: 764547968.0000 - mean_squared_error: 764547968.0000\n",
            "Epoch 52/100\n",
            "366/366 [==============================] - 0s 1ms/step - loss: 764544832.0000 - mean_squared_error: 764544832.0000\n",
            "Epoch 53/100\n",
            "366/366 [==============================] - 0s 983us/step - loss: 764537024.0000 - mean_squared_error: 764537024.0000\n",
            "Epoch 54/100\n",
            "366/366 [==============================] - 0s 952us/step - loss: 764533888.0000 - mean_squared_error: 764533888.0000\n",
            "Epoch 55/100\n",
            "366/366 [==============================] - 0s 1ms/step - loss: 764531392.0000 - mean_squared_error: 764531392.0000\n",
            "Epoch 56/100\n",
            "366/366 [==============================] - 0s 1ms/step - loss: 764525888.0000 - mean_squared_error: 764525888.0000\n",
            "Epoch 57/100\n",
            "366/366 [==============================] - 0s 1ms/step - loss: 764524224.0000 - mean_squared_error: 764524224.0000\n",
            "Epoch 58/100\n",
            "366/366 [==============================] - 0s 1ms/step - loss: 764522944.0000 - mean_squared_error: 764522944.0000\n",
            "Epoch 59/100\n",
            "366/366 [==============================] - 0s 1ms/step - loss: 764518592.0000 - mean_squared_error: 764518592.0000\n",
            "Epoch 60/100\n",
            "366/366 [==============================] - 0s 1ms/step - loss: 764516864.0000 - mean_squared_error: 764516864.0000\n",
            "Epoch 61/100\n",
            "366/366 [==============================] - 0s 958us/step - loss: 764516480.0000 - mean_squared_error: 764516480.0000\n",
            "Epoch 62/100\n",
            "366/366 [==============================] - 0s 924us/step - loss: 764511488.0000 - mean_squared_error: 764511488.0000\n",
            "Epoch 63/100\n",
            "366/366 [==============================] - 0s 997us/step - loss: 764508928.0000 - mean_squared_error: 764508928.0000\n",
            "Epoch 64/100\n",
            "366/366 [==============================] - 0s 964us/step - loss: 764508160.0000 - mean_squared_error: 764508160.0000\n",
            "Epoch 65/100\n",
            "366/366 [==============================] - 0s 1ms/step - loss: 764507456.0000 - mean_squared_error: 764507456.0000\n",
            "Epoch 66/100\n",
            "366/366 [==============================] - 0s 1ms/step - loss: 764504960.0000 - mean_squared_error: 764504960.0000\n",
            "Epoch 67/100\n",
            "366/366 [==============================] - 0s 1ms/step - loss: 764502912.0000 - mean_squared_error: 764502912.0000\n",
            "Epoch 68/100\n",
            "366/366 [==============================] - 0s 983us/step - loss: 764501824.0000 - mean_squared_error: 764501824.0000\n",
            "Epoch 69/100\n",
            "366/366 [==============================] - 0s 1ms/step - loss: 764500736.0000 - mean_squared_error: 764500736.0000\n",
            "Epoch 70/100\n",
            "366/366 [==============================] - 0s 968us/step - loss: 764498944.0000 - mean_squared_error: 764498944.0000\n",
            "Epoch 71/100\n",
            "366/366 [==============================] - 0s 953us/step - loss: 764499648.0000 - mean_squared_error: 764499648.0000\n",
            "Epoch 72/100\n",
            "366/366 [==============================] - 0s 969us/step - loss: 764495552.0000 - mean_squared_error: 764495552.0000\n",
            "Epoch 73/100\n",
            "366/366 [==============================] - 0s 1ms/step - loss: 764494208.0000 - mean_squared_error: 764494208.0000\n",
            "Epoch 74/100\n",
            "366/366 [==============================] - 0s 1ms/step - loss: 764494016.0000 - mean_squared_error: 764494016.0000\n",
            "Epoch 75/100\n",
            "366/366 [==============================] - 0s 1ms/step - loss: 764491968.0000 - mean_squared_error: 764491968.0000\n",
            "Epoch 76/100\n",
            "366/366 [==============================] - 0s 1ms/step - loss: 764493056.0000 - mean_squared_error: 764493056.0000\n",
            "Epoch 77/100\n",
            "366/366 [==============================] - 0s 1ms/step - loss: 764489472.0000 - mean_squared_error: 764489472.0000\n",
            "Epoch 78/100\n",
            "366/366 [==============================] - 0s 978us/step - loss: 764488384.0000 - mean_squared_error: 764488384.0000\n",
            "Epoch 79/100\n",
            "366/366 [==============================] - 0s 1ms/step - loss: 764486656.0000 - mean_squared_error: 764486656.0000\n",
            "Epoch 80/100\n",
            "366/366 [==============================] - 0s 1ms/step - loss: 764484992.0000 - mean_squared_error: 764484992.0000\n",
            "Epoch 81/100\n",
            "366/366 [==============================] - 0s 1ms/step - loss: 764484288.0000 - mean_squared_error: 764484288.0000\n",
            "Epoch 82/100\n",
            "366/366 [==============================] - 0s 962us/step - loss: 764482688.0000 - mean_squared_error: 764482688.0000\n",
            "Epoch 83/100\n",
            "366/366 [==============================] - 0s 969us/step - loss: 764482496.0000 - mean_squared_error: 764482496.0000\n",
            "Epoch 84/100\n",
            "366/366 [==============================] - 0s 1ms/step - loss: 764480512.0000 - mean_squared_error: 764480512.0000\n",
            "Epoch 85/100\n",
            "366/366 [==============================] - 0s 1ms/step - loss: 764478272.0000 - mean_squared_error: 764478272.0000\n",
            "Epoch 86/100\n",
            "366/366 [==============================] - 0s 997us/step - loss: 764478720.0000 - mean_squared_error: 764478720.0000\n",
            "Epoch 87/100\n",
            "366/366 [==============================] - 0s 1ms/step - loss: 764476672.0000 - mean_squared_error: 764476672.0000\n",
            "Epoch 88/100\n",
            "366/366 [==============================] - 0s 1ms/step - loss: 764474432.0000 - mean_squared_error: 764474432.0000\n",
            "Epoch 89/100\n",
            "366/366 [==============================] - 0s 1ms/step - loss: 764475584.0000 - mean_squared_error: 764475584.0000\n",
            "Epoch 90/100\n",
            "366/366 [==============================] - 0s 1ms/step - loss: 764472640.0000 - mean_squared_error: 764472640.0000\n",
            "Epoch 91/100\n",
            "366/366 [==============================] - 0s 1ms/step - loss: 764471552.0000 - mean_squared_error: 764471552.0000\n",
            "Epoch 92/100\n",
            "366/366 [==============================] - 0s 1ms/step - loss: 764472704.0000 - mean_squared_error: 764472704.0000\n",
            "Epoch 93/100\n",
            "366/366 [==============================] - 0s 1ms/step - loss: 764469056.0000 - mean_squared_error: 764469056.0000\n",
            "Epoch 94/100\n",
            "366/366 [==============================] - 0s 1ms/step - loss: 764468352.0000 - mean_squared_error: 764468352.0000\n",
            "Epoch 95/100\n",
            "366/366 [==============================] - 1s 2ms/step - loss: 764466112.0000 - mean_squared_error: 764466112.0000\n",
            "Epoch 96/100\n",
            "366/366 [==============================] - 1s 2ms/step - loss: 764466624.0000 - mean_squared_error: 764466624.0000\n",
            "Epoch 97/100\n",
            "366/366 [==============================] - 1s 2ms/step - loss: 764465280.0000 - mean_squared_error: 764465280.0000\n",
            "Epoch 98/100\n",
            "366/366 [==============================] - 1s 2ms/step - loss: 764463104.0000 - mean_squared_error: 764463104.0000\n",
            "Epoch 99/100\n",
            "366/366 [==============================] - 1s 2ms/step - loss: 764461184.0000 - mean_squared_error: 764461184.0000\n",
            "Epoch 100/100\n",
            "366/366 [==============================] - 1s 2ms/step - loss: 764460800.0000 - mean_squared_error: 764460800.0000\n",
            "Model: \"sequential_1\"\n",
            "_________________________________________________________________\n",
            "Layer (type)                 Output Shape              Param #   \n",
            "=================================================================\n",
            "dense_3 (Dense)              (None, 6)                 36        \n",
            "_________________________________________________________________\n",
            "dense_4 (Dense)              (None, 6)                 42        \n",
            "_________________________________________________________________\n",
            "dense_5 (Dense)              (None, 1)                 7         \n",
            "=================================================================\n",
            "Total params: 85\n",
            "Trainable params: 85\n",
            "Non-trainable params: 0\n",
            "_________________________________________________________________\n",
            "Mean Absolute Error: 3204.8983813009627\n",
            "Mean Squared Error: 831181423.0288211\n",
            "Root Mean Squared Error: 28830.217186639802\n"
          ],
          "name": "stdout"
        }
      ]
    },
    {
      "cell_type": "markdown",
      "metadata": {
        "id": "kS-68ez8qxDi"
      },
      "source": [
        "***(9) Pick the best model based on error as well as\n",
        "generalisation.***"
      ]
    },
    {
      "cell_type": "code",
      "metadata": {
        "id": "O-EYwb3eq9q6",
        "outputId": "2113da13-540f-46bf-bb43-8c4c9ee37996",
        "colab": {
          "base_uri": "https://localhost:8080/",
          "height": 265
        }
      },
      "source": [
        "plt.plot([\"LinearRegression\",\"SVR\",\"DecisionTree\",\"RandomForest\",\"ANN\"],mae)\n",
        "plt.show()"
      ],
      "execution_count": 74,
      "outputs": [
        {
          "output_type": "display_data",
          "data": {
            "image/png": "[encoded data removed]",
            "text/plain": [
              "<Figure size 432x288 with 1 Axes>"
            ]
          },
          "metadata": {
            "tags": [],
            "needs_background": "light"
          }
        }
      ]
    },
    {
      "cell_type": "code",
      "metadata": {
        "id": "WzpkgBkqsXEK",
        "outputId": "6e79ebaa-0728-40ab-f553-163386df43d5",
        "colab": {
          "base_uri": "https://localhost:8080/",
          "height": 276
        }
      },
      "source": [
        "plt.plot([\"LinearRegression\",\"SVR\",\"DecisionTree\",\"RandomForest\",\"ANN\"],mse)\n",
        "plt.show()"
      ],
      "execution_count": 75,
      "outputs": [
        {
          "output_type": "display_data",
          "data": {
            "image/png": "[encoded data removed]",
            "text/plain": [
              "<Figure size 432x288 with 1 Axes>"
            ]
          },
          "metadata": {
            "tags": [],
            "needs_background": "light"
          }
        }
      ]
    },
    {
      "cell_type": "code",
      "metadata": {
        "id": "8xgXHC2tsdEU",
        "outputId": "9ac533c5-485c-4602-c17d-bf2db1426e74",
        "colab": {
          "base_uri": "https://localhost:8080/",
          "height": 265
        }
      },
      "source": [
        "plt.plot([\"LinearRegression\",\"SVR\",\"DecisionTree\",\"RandomForest\",\"ANN\"],rmse)\n",
        "plt.show()"
      ],
      "execution_count": 76,
      "outputs": [
        {
          "output_type": "display_data",
          "data": {
            "image/png": "[encoded data removed]",
            "text/plain": [
              "<Figure size 432x288 with 1 Axes>"
            ]
          },
          "metadata": {
            "tags": [],
            "needs_background": "light"
          }
        }
      ]
    },
    {
      "cell_type": "markdown",
      "metadata": {
        "id": "ZWqIAmR7cjrW"
      },
      "source": [
        "***(10) Save your model and predict on the test set***"
      ]
    },
    {
      "cell_type": "code",
      "metadata": {
        "id": "sfbkP4LAGYib"
      },
      "source": [
        "#Saving Scikitlearn models\n",
        "import joblib\n",
        "joblib.dump(supportvector_regressor, \"supportvector_regressor_youtubeadview.pkl\")\n",
        "# Saving Keras Artificial Neural Network model\n",
        "ann.save(\"ann_youtubeadview.h5\")"
      ],
      "execution_count": 47,
      "outputs": []
    },
    {
      "cell_type": "code",
      "metadata": {
        "id": "-Qk3geFBcy6T",
        "outputId": "2f690a84-87a8-48f2-b443-b3973a6d207e",
        "colab": {
          "resources": {
            "http://localhost:8080/nbextensions/google.colab/files.js": {
              "data": "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",
              "ok": true,
              "headers": [
                [
                  "content-type",
                  "application/javascript"
                ]
              ],
              "status": 200,
              "status_text": ""
            }
          },
          "base_uri": "https://localhost:8080/",
          "height": 73
        }
      },
      "source": [
        "from google.colab import files\n",
        "uploaded = files.upload()"
      ],
      "execution_count": 48,
      "outputs": [
        {
          "output_type": "display_data",
          "data": {
            "text/html": [
              "\n",
              "     <input type=\"file\" id=\"files-92400194-2dd6-4c71-8cac-4ff4e7f699d6\" name=\"files[]\" multiple disabled\n",
              "        style=\"border:none\" />\n",
              "     <output id=\"result-92400194-2dd6-4c71-8cac-4ff4e7f699d6\">\n",
              "      Upload widget is only available when the cell has been executed in the\n",
              "      current browser session. Please rerun this cell to enable.\n",
              "      </output>\n",
              "      <script src=\"/nbextensions/google.colab/files.js\"></script> "
            ],
            "text/plain": [
              "<IPython.core.display.HTML object>"
            ]
          },
          "metadata": {
            "tags": []
          }
        },
        {
          "output_type": "stream",
          "text": [
            "Saving test.csv to test.csv\n"
          ],
          "name": "stdout"
        }
      ]
    },
    {
      "cell_type": "code",
      "metadata": {
        "id": "yLXm21Umc2Za",
        "outputId": "e62640ec-fc3d-4feb-c5f4-96185c14a963",
        "colab": {
          "base_uri": "https://localhost:8080/",
          "height": 251
        }
      },
      "source": [
        "t=pd.read_csv('test.csv')\n",
        "print(t)\n",
        "ts=pd.DataFrame()"
      ],
      "execution_count": 49,
      "outputs": [
        {
          "output_type": "stream",
          "text": [
            "          vidid    views likes  ...   published    duration category\n",
            "0      VID_1054   440238  6153  ...  2017-02-18     PT7M29S        B\n",
            "1     VID_18629  1040132  8171  ...  2016-06-28     PT6M29S        F\n",
            "2     VID_13967    28534    31  ...  2014-03-10    PT37M54S        D\n",
            "3     VID_19442  1316715  2284  ...  2010-06-05     PT9M55S        G\n",
            "4       VID_770  1893173  2519  ...  2016-09-03      PT3M8S        B\n",
            "...         ...      ...   ...  ...         ...         ...      ...\n",
            "8759   VID_2944   111205   471  ...  2011-04-19     PT3M14S        C\n",
            "8760   VID_8195  1074457  1024  ...  2016-06-03  PT2H18M35S        D\n",
            "8761  VID_18973  1891692  4606  ...  2016-06-26     PT7M14S        F\n",
            "8762   VID_5849   714859  1639  ...  2016-03-23     PT3M15S        D\n",
            "8763   VID_8494     5297    12  ...  2016-12-19    PT10M14S        D\n",
            "\n",
            "[8764 rows x 8 columns]\n"
          ],
          "name": "stdout"
        }
      ]
    },
    {
      "cell_type": "code",
      "metadata": {
        "id": "yan-z0PrdpAj",
        "outputId": "574748aa-9295-4155-9e2c-79e1964df256",
        "colab": {
          "base_uri": "https://localhost:8080/",
          "height": 362
        }
      },
      "source": [
        "print(t.shape)\n",
        "t.head(10)"
      ],
      "execution_count": 50,
      "outputs": [
        {
          "output_type": "stream",
          "text": [
            "(8764, 8)\n"
          ],
          "name": "stdout"
        },
        {
          "output_type": "execute_result",
          "data": {
            "text/html": [
              "<div>\n",
              "<style scoped>\n",
              "    .dataframe tbody tr th:only-of-type {\n",
              "        vertical-align: middle;\n",
              "    }\n",
              "\n",
              "    .dataframe tbody tr th {\n",
              "        vertical-align: top;\n",
              "    }\n",
              "\n",
              "    .dataframe thead th {\n",
              "        text-align: right;\n",
              "    }\n",
              "</style>\n",
              "<table border=\"1\" class=\"dataframe\">\n",
              "  <thead>\n",
              "    <tr style=\"text-align: right;\">\n",
              "      <th></th>\n",
              "      <th>vidid</th>\n",
              "      <th>views</th>\n",
              "      <th>likes</th>\n",
              "      <th>dislikes</th>\n",
              "      <th>comment</th>\n",
              "      <th>published</th>\n",
              "      <th>duration</th>\n",
              "      <th>category</th>\n",
              "    </tr>\n",
              "  </thead>\n",
              "  <tbody>\n",
              "    <tr>\n",
              "      <th>0</th>\n",
              "      <td>VID_1054</td>\n",
              "      <td>440238</td>\n",
              "      <td>6153</td>\n",
              "      <td>218</td>\n",
              "      <td>1377</td>\n",
              "      <td>2017-02-18</td>\n",
              "      <td>PT7M29S</td>\n",
              "      <td>B</td>\n",
              "    </tr>\n",
              "    <tr>\n",
              "      <th>1</th>\n",
              "      <td>VID_18629</td>\n",
              "      <td>1040132</td>\n",
              "      <td>8171</td>\n",
              "      <td>340</td>\n",
              "      <td>1047</td>\n",
              "      <td>2016-06-28</td>\n",
              "      <td>PT6M29S</td>\n",
              "      <td>F</td>\n",
              "    </tr>\n",
              "    <tr>\n",
              "      <th>2</th>\n",
              "      <td>VID_13967</td>\n",
              "      <td>28534</td>\n",
              "      <td>31</td>\n",
              "      <td>11</td>\n",
              "      <td>1</td>\n",
              "      <td>2014-03-10</td>\n",
              "      <td>PT37M54S</td>\n",
              "      <td>D</td>\n",
              "    </tr>\n",
              "    <tr>\n",
              "      <th>3</th>\n",
              "      <td>VID_19442</td>\n",
              "      <td>1316715</td>\n",
              "      <td>2284</td>\n",
              "      <td>250</td>\n",
              "      <td>274</td>\n",
              "      <td>2010-06-05</td>\n",
              "      <td>PT9M55S</td>\n",
              "      <td>G</td>\n",
              "    </tr>\n",
              "    <tr>\n",
              "      <th>4</th>\n",
              "      <td>VID_770</td>\n",
              "      <td>1893173</td>\n",
              "      <td>2519</td>\n",
              "      <td>225</td>\n",
              "      <td>116</td>\n",
              "      <td>2016-09-03</td>\n",
              "      <td>PT3M8S</td>\n",
              "      <td>B</td>\n",
              "    </tr>\n",
              "    <tr>\n",
              "      <th>5</th>\n",
              "      <td>VID_10315</td>\n",
              "      <td>145820</td>\n",
              "      <td>215</td>\n",
              "      <td>29</td>\n",
              "      <td>19</td>\n",
              "      <td>2014-01-23</td>\n",
              "      <td>PT39M18S</td>\n",
              "      <td>D</td>\n",
              "    </tr>\n",
              "    <tr>\n",
              "      <th>6</th>\n",
              "      <td>VID_7417</td>\n",
              "      <td>12921</td>\n",
              "      <td>169</td>\n",
              "      <td>3</td>\n",
              "      <td>73</td>\n",
              "      <td>2014-05-01</td>\n",
              "      <td>PT10M4S</td>\n",
              "      <td>D</td>\n",
              "    </tr>\n",
              "    <tr>\n",
              "      <th>7</th>\n",
              "      <td>VID_17788</td>\n",
              "      <td>4502</td>\n",
              "      <td>65</td>\n",
              "      <td>2</td>\n",
              "      <td>8</td>\n",
              "      <td>2016-07-13</td>\n",
              "      <td>PT2M35S</td>\n",
              "      <td>F</td>\n",
              "    </tr>\n",
              "    <tr>\n",
              "      <th>8</th>\n",
              "      <td>VID_14591</td>\n",
              "      <td>662956</td>\n",
              "      <td>1841</td>\n",
              "      <td>321</td>\n",
              "      <td>219</td>\n",
              "      <td>2014-01-13</td>\n",
              "      <td>PT13M57S</td>\n",
              "      <td>D</td>\n",
              "    </tr>\n",
              "    <tr>\n",
              "      <th>9</th>\n",
              "      <td>VID_1228</td>\n",
              "      <td>552009</td>\n",
              "      <td>6732</td>\n",
              "      <td>97</td>\n",
              "      <td>1100</td>\n",
              "      <td>2016-08-25</td>\n",
              "      <td>PT17M49S</td>\n",
              "      <td>B</td>\n",
              "    </tr>\n",
              "  </tbody>\n",
              "</table>\n",
              "</div>"
            ],
            "text/plain": [
              "       vidid    views likes dislikes comment   published  duration category\n",
              "0   VID_1054   440238  6153      218    1377  2017-02-18   PT7M29S        B\n",
              "1  VID_18629  1040132  8171      340    1047  2016-06-28   PT6M29S        F\n",
              "2  VID_13967    28534    31       11       1  2014-03-10  PT37M54S        D\n",
              "3  VID_19442  1316715  2284      250     274  2010-06-05   PT9M55S        G\n",
              "4    VID_770  1893173  2519      225     116  2016-09-03    PT3M8S        B\n",
              "5  VID_10315   145820   215       29      19  2014-01-23  PT39M18S        D\n",
              "6   VID_7417    12921   169        3      73  2014-05-01   PT10M4S        D\n",
              "7  VID_17788     4502    65        2       8  2016-07-13   PT2M35S        F\n",
              "8  VID_14591   662956  1841      321     219  2014-01-13  PT13M57S        D\n",
              "9   VID_1228   552009  6732       97    1100  2016-08-25  PT17M49S        B"
            ]
          },
          "metadata": {
            "tags": []
          },
          "execution_count": 50
        }
      ]
    },
    {
      "cell_type": "code",
      "metadata": {
        "id": "NOuJtCmGgj2m",
        "outputId": "c93dc5b1-a965-4192-cfff-2090a3a87ee1",
        "colab": {
          "base_uri": "https://localhost:8080/",
          "height": 404
        }
      },
      "source": [
        "def timeconv(ch):\n",
        "   ch=ch[2:]\n",
        "   c=0\n",
        "   ri=0\n",
        "   for i in ch:\n",
        "     if (i.isnumeric()):\n",
        "       c=c*10+int(i)\n",
        "     else:\n",
        "       if(i==\"H\"):\n",
        "         ri=ri+c*3600\n",
        "         c=0\n",
        "       elif(i==\"M\"):\n",
        "         ri=ri+c*60\n",
        "         c=0\n",
        "       else:\n",
        "         ri=ri+c\n",
        "   return ri\n",
        "s=t[\"duration\"]\n",
        "ts[\"duration\"]=s.apply(lambda x:timeconv(x))\n",
        "ts"
      ],
      "execution_count": 51,
      "outputs": [
        {
          "output_type": "execute_result",
          "data": {
            "text/html": [
              "<div>\n",
              "<style scoped>\n",
              "    .dataframe tbody tr th:only-of-type {\n",
              "        vertical-align: middle;\n",
              "    }\n",
              "\n",
              "    .dataframe tbody tr th {\n",
              "        vertical-align: top;\n",
              "    }\n",
              "\n",
              "    .dataframe thead th {\n",
              "        text-align: right;\n",
              "    }\n",
              "</style>\n",
              "<table border=\"1\" class=\"dataframe\">\n",
              "  <thead>\n",
              "    <tr style=\"text-align: right;\">\n",
              "      <th></th>\n",
              "      <th>duration</th>\n",
              "    </tr>\n",
              "  </thead>\n",
              "  <tbody>\n",
              "    <tr>\n",
              "      <th>0</th>\n",
              "      <td>449</td>\n",
              "    </tr>\n",
              "    <tr>\n",
              "      <th>1</th>\n",
              "      <td>389</td>\n",
              "    </tr>\n",
              "    <tr>\n",
              "      <th>2</th>\n",
              "      <td>2274</td>\n",
              "    </tr>\n",
              "    <tr>\n",
              "      <th>3</th>\n",
              "      <td>595</td>\n",
              "    </tr>\n",
              "    <tr>\n",
              "      <th>4</th>\n",
              "      <td>188</td>\n",
              "    </tr>\n",
              "    <tr>\n",
              "      <th>...</th>\n",
              "      <td>...</td>\n",
              "    </tr>\n",
              "    <tr>\n",
              "      <th>8759</th>\n",
              "      <td>194</td>\n",
              "    </tr>\n",
              "    <tr>\n",
              "      <th>8760</th>\n",
              "      <td>8315</td>\n",
              "    </tr>\n",
              "    <tr>\n",
              "      <th>8761</th>\n",
              "      <td>434</td>\n",
              "    </tr>\n",
              "    <tr>\n",
              "      <th>8762</th>\n",
              "      <td>195</td>\n",
              "    </tr>\n",
              "    <tr>\n",
              "      <th>8763</th>\n",
              "      <td>614</td>\n",
              "    </tr>\n",
              "  </tbody>\n",
              "</table>\n",
              "<p>8764 rows × 1 columns</p>\n",
              "</div>"
            ],
            "text/plain": [
              "      duration\n",
              "0          449\n",
              "1          389\n",
              "2         2274\n",
              "3          595\n",
              "4          188\n",
              "...        ...\n",
              "8759       194\n",
              "8760      8315\n",
              "8761       434\n",
              "8762       195\n",
              "8763       614\n",
              "\n",
              "[8764 rows x 1 columns]"
            ]
          },
          "metadata": {
            "tags": []
          },
          "execution_count": 51
        }
      ]
    },
    {
      "cell_type": "code",
      "metadata": {
        "id": "E6XjBNs_dOt4",
        "outputId": "46005fbf-c17a-4bab-f2b2-b80b03c367d5",
        "colab": {
          "base_uri": "https://localhost:8080/",
          "height": 345
        }
      },
      "source": [
        "from sklearn.preprocessing import LabelEncoder\n",
        "la=LabelEncoder()\n",
        "ts[\"category\"]=la.fit_transform(t[\"category\"])\n",
        "ts.head(10)"
      ],
      "execution_count": 52,
      "outputs": [
        {
          "output_type": "execute_result",
          "data": {
            "text/html": [
              "<div>\n",
              "<style scoped>\n",
              "    .dataframe tbody tr th:only-of-type {\n",
              "        vertical-align: middle;\n",
              "    }\n",
              "\n",
              "    .dataframe tbody tr th {\n",
              "        vertical-align: top;\n",
              "    }\n",
              "\n",
              "    .dataframe thead th {\n",
              "        text-align: right;\n",
              "    }\n",
              "</style>\n",
              "<table border=\"1\" class=\"dataframe\">\n",
              "  <thead>\n",
              "    <tr style=\"text-align: right;\">\n",
              "      <th></th>\n",
              "      <th>duration</th>\n",
              "      <th>category</th>\n",
              "    </tr>\n",
              "  </thead>\n",
              "  <tbody>\n",
              "    <tr>\n",
              "      <th>0</th>\n",
              "      <td>449</td>\n",
              "      <td>1</td>\n",
              "    </tr>\n",
              "    <tr>\n",
              "      <th>1</th>\n",
              "      <td>389</td>\n",
              "      <td>5</td>\n",
              "    </tr>\n",
              "    <tr>\n",
              "      <th>2</th>\n",
              "      <td>2274</td>\n",
              "      <td>3</td>\n",
              "    </tr>\n",
              "    <tr>\n",
              "      <th>3</th>\n",
              "      <td>595</td>\n",
              "      <td>6</td>\n",
              "    </tr>\n",
              "    <tr>\n",
              "      <th>4</th>\n",
              "      <td>188</td>\n",
              "      <td>1</td>\n",
              "    </tr>\n",
              "    <tr>\n",
              "      <th>5</th>\n",
              "      <td>2358</td>\n",
              "      <td>3</td>\n",
              "    </tr>\n",
              "    <tr>\n",
              "      <th>6</th>\n",
              "      <td>604</td>\n",
              "      <td>3</td>\n",
              "    </tr>\n",
              "    <tr>\n",
              "      <th>7</th>\n",
              "      <td>155</td>\n",
              "      <td>5</td>\n",
              "    </tr>\n",
              "    <tr>\n",
              "      <th>8</th>\n",
              "      <td>837</td>\n",
              "      <td>3</td>\n",
              "    </tr>\n",
              "    <tr>\n",
              "      <th>9</th>\n",
              "      <td>1069</td>\n",
              "      <td>1</td>\n",
              "    </tr>\n",
              "  </tbody>\n",
              "</table>\n",
              "</div>"
            ],
            "text/plain": [
              "   duration  category\n",
              "0       449         1\n",
              "1       389         5\n",
              "2      2274         3\n",
              "3       595         6\n",
              "4       188         1\n",
              "5      2358         3\n",
              "6       604         3\n",
              "7       155         5\n",
              "8       837         3\n",
              "9      1069         1"
            ]
          },
          "metadata": {
            "tags": []
          },
          "execution_count": 52
        }
      ]
    },
    {
      "cell_type": "code",
      "metadata": {
        "id": "9p_BgqVDdnsX",
        "outputId": "4addd6cc-6a9f-4fe6-a469-a4d46d74453b",
        "colab": {
          "base_uri": "https://localhost:8080/",
          "height": 404
        }
      },
      "source": [
        "ts[\"views\"] = pd.to_numeric(t[\"views\"],errors='coerce')\n",
        "ts[\"likes\"] = pd.to_numeric(t[\"likes\"],errors='coerce')\n",
        "ts[\"dislikes\"] = pd.to_numeric(t[\"dislikes\"],errors='coerce')\n",
        "ts[\"comment\"] = pd.to_numeric(t[\"comment\"],errors='coerce')\n",
        "ts"
      ],
      "execution_count": 53,
      "outputs": [
        {
          "output_type": "execute_result",
          "data": {
            "text/html": [
              "<div>\n",
              "<style scoped>\n",
              "    .dataframe tbody tr th:only-of-type {\n",
              "        vertical-align: middle;\n",
              "    }\n",
              "\n",
              "    .dataframe tbody tr th {\n",
              "        vertical-align: top;\n",
              "    }\n",
              "\n",
              "    .dataframe thead th {\n",
              "        text-align: right;\n",
              "    }\n",
              "</style>\n",
              "<table border=\"1\" class=\"dataframe\">\n",
              "  <thead>\n",
              "    <tr style=\"text-align: right;\">\n",
              "      <th></th>\n",
              "      <th>duration</th>\n",
              "      <th>category</th>\n",
              "      <th>views</th>\n",
              "      <th>likes</th>\n",
              "      <th>dislikes</th>\n",
              "      <th>comment</th>\n",
              "    </tr>\n",
              "  </thead>\n",
              "  <tbody>\n",
              "    <tr>\n",
              "      <th>0</th>\n",
              "      <td>449</td>\n",
              "      <td>1</td>\n",
              "      <td>440238.0</td>\n",
              "      <td>6153.0</td>\n",
              "      <td>218.0</td>\n",
              "      <td>1377.0</td>\n",
              "    </tr>\n",
              "    <tr>\n",
              "      <th>1</th>\n",
              "      <td>389</td>\n",
              "      <td>5</td>\n",
              "      <td>1040132.0</td>\n",
              "      <td>8171.0</td>\n",
              "      <td>340.0</td>\n",
              "      <td>1047.0</td>\n",
              "    </tr>\n",
              "    <tr>\n",
              "      <th>2</th>\n",
              "      <td>2274</td>\n",
              "      <td>3</td>\n",
              "      <td>28534.0</td>\n",
              "      <td>31.0</td>\n",
              "      <td>11.0</td>\n",
              "      <td>1.0</td>\n",
              "    </tr>\n",
              "    <tr>\n",
              "      <th>3</th>\n",
              "      <td>595</td>\n",
              "      <td>6</td>\n",
              "      <td>1316715.0</td>\n",
              "      <td>2284.0</td>\n",
              "      <td>250.0</td>\n",
              "      <td>274.0</td>\n",
              "    </tr>\n",
              "    <tr>\n",
              "      <th>4</th>\n",
              "      <td>188</td>\n",
              "      <td>1</td>\n",
              "      <td>1893173.0</td>\n",
              "      <td>2519.0</td>\n",
              "      <td>225.0</td>\n",
              "      <td>116.0</td>\n",
              "    </tr>\n",
              "    <tr>\n",
              "      <th>...</th>\n",
              "      <td>...</td>\n",
              "      <td>...</td>\n",
              "      <td>...</td>\n",
              "      <td>...</td>\n",
              "      <td>...</td>\n",
              "      <td>...</td>\n",
              "    </tr>\n",
              "    <tr>\n",
              "      <th>8759</th>\n",
              "      <td>194</td>\n",
              "      <td>2</td>\n",
              "      <td>111205.0</td>\n",
              "      <td>471.0</td>\n",
              "      <td>14.0</td>\n",
              "      <td>101.0</td>\n",
              "    </tr>\n",
              "    <tr>\n",
              "      <th>8760</th>\n",
              "      <td>8315</td>\n",
              "      <td>3</td>\n",
              "      <td>1074457.0</td>\n",
              "      <td>1024.0</td>\n",
              "      <td>195.0</td>\n",
              "      <td>65.0</td>\n",
              "    </tr>\n",
              "    <tr>\n",
              "      <th>8761</th>\n",
              "      <td>434</td>\n",
              "      <td>5</td>\n",
              "      <td>1891692.0</td>\n",
              "      <td>4606.0</td>\n",
              "      <td>1109.0</td>\n",
              "      <td>191.0</td>\n",
              "    </tr>\n",
              "    <tr>\n",
              "      <th>8762</th>\n",
              "      <td>195</td>\n",
              "      <td>3</td>\n",
              "      <td>714859.0</td>\n",
              "      <td>1639.0</td>\n",
              "      <td>151.0</td>\n",
              "      <td>382.0</td>\n",
              "    </tr>\n",
              "    <tr>\n",
              "      <th>8763</th>\n",
              "      <td>614</td>\n",
              "      <td>3</td>\n",
              "      <td>5297.0</td>\n",
              "      <td>12.0</td>\n",
              "      <td>1.0</td>\n",
              "      <td>0.0</td>\n",
              "    </tr>\n",
              "  </tbody>\n",
              "</table>\n",
              "<p>8764 rows × 6 columns</p>\n",
              "</div>"
            ],
            "text/plain": [
              "      duration  category      views   likes  dislikes  comment\n",
              "0          449         1   440238.0  6153.0     218.0   1377.0\n",
              "1          389         5  1040132.0  8171.0     340.0   1047.0\n",
              "2         2274         3    28534.0    31.0      11.0      1.0\n",
              "3          595         6  1316715.0  2284.0     250.0    274.0\n",
              "4          188         1  1893173.0  2519.0     225.0    116.0\n",
              "...        ...       ...        ...     ...       ...      ...\n",
              "8759       194         2   111205.0   471.0      14.0    101.0\n",
              "8760      8315         3  1074457.0  1024.0     195.0     65.0\n",
              "8761       434         5  1891692.0  4606.0    1109.0    191.0\n",
              "8762       195         3   714859.0  1639.0     151.0    382.0\n",
              "8763       614         3     5297.0    12.0       1.0      0.0\n",
              "\n",
              "[8764 rows x 6 columns]"
            ]
          },
          "metadata": {
            "tags": []
          },
          "execution_count": 53
        }
      ]
    },
    {
      "cell_type": "code",
      "metadata": {
        "id": "DhXkxAiHhgeE",
        "outputId": "75c0ed91-6e89-407d-ce7b-68c420c06790",
        "colab": {
          "base_uri": "https://localhost:8080/",
          "height": 404
        }
      },
      "source": [
        "ts[\"vidid\"]=t[\"vidid\"]\n",
        "ts[\"published\"]=t[\"published\"]\n",
        "ts=ts[[\"vidid\",\"published\",\"views\",\"likes\",\"dislikes\",\"comment\",\"category\",\"duration\"]]\n",
        "ts"
      ],
      "execution_count": 54,
      "outputs": [
        {
          "output_type": "execute_result",
          "data": {
            "text/html": [
              "<div>\n",
              "<style scoped>\n",
              "    .dataframe tbody tr th:only-of-type {\n",
              "        vertical-align: middle;\n",
              "    }\n",
              "\n",
              "    .dataframe tbody tr th {\n",
              "        vertical-align: top;\n",
              "    }\n",
              "\n",
              "    .dataframe thead th {\n",
              "        text-align: right;\n",
              "    }\n",
              "</style>\n",
              "<table border=\"1\" class=\"dataframe\">\n",
              "  <thead>\n",
              "    <tr style=\"text-align: right;\">\n",
              "      <th></th>\n",
              "      <th>vidid</th>\n",
              "      <th>published</th>\n",
              "      <th>views</th>\n",
              "      <th>likes</th>\n",
              "      <th>dislikes</th>\n",
              "      <th>comment</th>\n",
              "      <th>category</th>\n",
              "      <th>duration</th>\n",
              "    </tr>\n",
              "  </thead>\n",
              "  <tbody>\n",
              "    <tr>\n",
              "      <th>0</th>\n",
              "      <td>VID_1054</td>\n",
              "      <td>2017-02-18</td>\n",
              "      <td>440238.0</td>\n",
              "      <td>6153.0</td>\n",
              "      <td>218.0</td>\n",
              "      <td>1377.0</td>\n",
              "      <td>1</td>\n",
              "      <td>449</td>\n",
              "    </tr>\n",
              "    <tr>\n",
              "      <th>1</th>\n",
              "      <td>VID_18629</td>\n",
              "      <td>2016-06-28</td>\n",
              "      <td>1040132.0</td>\n",
              "      <td>8171.0</td>\n",
              "      <td>340.0</td>\n",
              "      <td>1047.0</td>\n",
              "      <td>5</td>\n",
              "      <td>389</td>\n",
              "    </tr>\n",
              "    <tr>\n",
              "      <th>2</th>\n",
              "      <td>VID_13967</td>\n",
              "      <td>2014-03-10</td>\n",
              "      <td>28534.0</td>\n",
              "      <td>31.0</td>\n",
              "      <td>11.0</td>\n",
              "      <td>1.0</td>\n",
              "      <td>3</td>\n",
              "      <td>2274</td>\n",
              "    </tr>\n",
              "    <tr>\n",
              "      <th>3</th>\n",
              "      <td>VID_19442</td>\n",
              "      <td>2010-06-05</td>\n",
              "      <td>1316715.0</td>\n",
              "      <td>2284.0</td>\n",
              "      <td>250.0</td>\n",
              "      <td>274.0</td>\n",
              "      <td>6</td>\n",
              "      <td>595</td>\n",
              "    </tr>\n",
              "    <tr>\n",
              "      <th>4</th>\n",
              "      <td>VID_770</td>\n",
              "      <td>2016-09-03</td>\n",
              "      <td>1893173.0</td>\n",
              "      <td>2519.0</td>\n",
              "      <td>225.0</td>\n",
              "      <td>116.0</td>\n",
              "      <td>1</td>\n",
              "      <td>188</td>\n",
              "    </tr>\n",
              "    <tr>\n",
              "      <th>...</th>\n",
              "      <td>...</td>\n",
              "      <td>...</td>\n",
              "      <td>...</td>\n",
              "      <td>...</td>\n",
              "      <td>...</td>\n",
              "      <td>...</td>\n",
              "      <td>...</td>\n",
              "      <td>...</td>\n",
              "    </tr>\n",
              "    <tr>\n",
              "      <th>8759</th>\n",
              "      <td>VID_2944</td>\n",
              "      <td>2011-04-19</td>\n",
              "      <td>111205.0</td>\n",
              "      <td>471.0</td>\n",
              "      <td>14.0</td>\n",
              "      <td>101.0</td>\n",
              "      <td>2</td>\n",
              "      <td>194</td>\n",
              "    </tr>\n",
              "    <tr>\n",
              "      <th>8760</th>\n",
              "      <td>VID_8195</td>\n",
              "      <td>2016-06-03</td>\n",
              "      <td>1074457.0</td>\n",
              "      <td>1024.0</td>\n",
              "      <td>195.0</td>\n",
              "      <td>65.0</td>\n",
              "      <td>3</td>\n",
              "      <td>8315</td>\n",
              "    </tr>\n",
              "    <tr>\n",
              "      <th>8761</th>\n",
              "      <td>VID_18973</td>\n",
              "      <td>2016-06-26</td>\n",
              "      <td>1891692.0</td>\n",
              "      <td>4606.0</td>\n",
              "      <td>1109.0</td>\n",
              "      <td>191.0</td>\n",
              "      <td>5</td>\n",
              "      <td>434</td>\n",
              "    </tr>\n",
              "    <tr>\n",
              "      <th>8762</th>\n",
              "      <td>VID_5849</td>\n",
              "      <td>2016-03-23</td>\n",
              "      <td>714859.0</td>\n",
              "      <td>1639.0</td>\n",
              "      <td>151.0</td>\n",
              "      <td>382.0</td>\n",
              "      <td>3</td>\n",
              "      <td>195</td>\n",
              "    </tr>\n",
              "    <tr>\n",
              "      <th>8763</th>\n",
              "      <td>VID_8494</td>\n",
              "      <td>2016-12-19</td>\n",
              "      <td>5297.0</td>\n",
              "      <td>12.0</td>\n",
              "      <td>1.0</td>\n",
              "      <td>0.0</td>\n",
              "      <td>3</td>\n",
              "      <td>614</td>\n",
              "    </tr>\n",
              "  </tbody>\n",
              "</table>\n",
              "<p>8764 rows × 8 columns</p>\n",
              "</div>"
            ],
            "text/plain": [
              "          vidid   published      views  ...  comment  category  duration\n",
              "0      VID_1054  2017-02-18   440238.0  ...   1377.0         1       449\n",
              "1     VID_18629  2016-06-28  1040132.0  ...   1047.0         5       389\n",
              "2     VID_13967  2014-03-10    28534.0  ...      1.0         3      2274\n",
              "3     VID_19442  2010-06-05  1316715.0  ...    274.0         6       595\n",
              "4       VID_770  2016-09-03  1893173.0  ...    116.0         1       188\n",
              "...         ...         ...        ...  ...      ...       ...       ...\n",
              "8759   VID_2944  2011-04-19   111205.0  ...    101.0         2       194\n",
              "8760   VID_8195  2016-06-03  1074457.0  ...     65.0         3      8315\n",
              "8761  VID_18973  2016-06-26  1891692.0  ...    191.0         5       434\n",
              "8762   VID_5849  2016-03-23   714859.0  ...    382.0         3       195\n",
              "8763   VID_8494  2016-12-19     5297.0  ...      0.0         3       614\n",
              "\n",
              "[8764 rows x 8 columns]"
            ]
          },
          "metadata": {
            "tags": []
          },
          "execution_count": 54
        }
      ]
    },
    {
      "cell_type": "code",
      "metadata": {
        "id": "g3s2b6pgiLNE",
        "outputId": "d5dc1233-250f-4cf5-a88c-e60058986424",
        "colab": {
          "base_uri": "https://localhost:8080/",
          "height": 345
        }
      },
      "source": [
        "ts=ts.dropna()\n",
        "ts.head(10)"
      ],
      "execution_count": 55,
      "outputs": [
        {
          "output_type": "execute_result",
          "data": {
            "text/html": [
              "<div>\n",
              "<style scoped>\n",
              "    .dataframe tbody tr th:only-of-type {\n",
              "        vertical-align: middle;\n",
              "    }\n",
              "\n",
              "    .dataframe tbody tr th {\n",
              "        vertical-align: top;\n",
              "    }\n",
              "\n",
              "    .dataframe thead th {\n",
              "        text-align: right;\n",
              "    }\n",
              "</style>\n",
              "<table border=\"1\" class=\"dataframe\">\n",
              "  <thead>\n",
              "    <tr style=\"text-align: right;\">\n",
              "      <th></th>\n",
              "      <th>vidid</th>\n",
              "      <th>published</th>\n",
              "      <th>views</th>\n",
              "      <th>likes</th>\n",
              "      <th>dislikes</th>\n",
              "      <th>comment</th>\n",
              "      <th>category</th>\n",
              "      <th>duration</th>\n",
              "    </tr>\n",
              "  </thead>\n",
              "  <tbody>\n",
              "    <tr>\n",
              "      <th>0</th>\n",
              "      <td>VID_1054</td>\n",
              "      <td>2017-02-18</td>\n",
              "      <td>440238.0</td>\n",
              "      <td>6153.0</td>\n",
              "      <td>218.0</td>\n",
              "      <td>1377.0</td>\n",
              "      <td>1</td>\n",
              "      <td>449</td>\n",
              "    </tr>\n",
              "    <tr>\n",
              "      <th>1</th>\n",
              "      <td>VID_18629</td>\n",
              "      <td>2016-06-28</td>\n",
              "      <td>1040132.0</td>\n",
              "      <td>8171.0</td>\n",
              "      <td>340.0</td>\n",
              "      <td>1047.0</td>\n",
              "      <td>5</td>\n",
              "      <td>389</td>\n",
              "    </tr>\n",
              "    <tr>\n",
              "      <th>2</th>\n",
              "      <td>VID_13967</td>\n",
              "      <td>2014-03-10</td>\n",
              "      <td>28534.0</td>\n",
              "      <td>31.0</td>\n",
              "      <td>11.0</td>\n",
              "      <td>1.0</td>\n",
              "      <td>3</td>\n",
              "      <td>2274</td>\n",
              "    </tr>\n",
              "    <tr>\n",
              "      <th>3</th>\n",
              "      <td>VID_19442</td>\n",
              "      <td>2010-06-05</td>\n",
              "      <td>1316715.0</td>\n",
              "      <td>2284.0</td>\n",
              "      <td>250.0</td>\n",
              "      <td>274.0</td>\n",
              "      <td>6</td>\n",
              "      <td>595</td>\n",
              "    </tr>\n",
              "    <tr>\n",
              "      <th>4</th>\n",
              "      <td>VID_770</td>\n",
              "      <td>2016-09-03</td>\n",
              "      <td>1893173.0</td>\n",
              "      <td>2519.0</td>\n",
              "      <td>225.0</td>\n",
              "      <td>116.0</td>\n",
              "      <td>1</td>\n",
              "      <td>188</td>\n",
              "    </tr>\n",
              "    <tr>\n",
              "      <th>5</th>\n",
              "      <td>VID_10315</td>\n",
              "      <td>2014-01-23</td>\n",
              "      <td>145820.0</td>\n",
              "      <td>215.0</td>\n",
              "      <td>29.0</td>\n",
              "      <td>19.0</td>\n",
              "      <td>3</td>\n",
              "      <td>2358</td>\n",
              "    </tr>\n",
              "    <tr>\n",
              "      <th>6</th>\n",
              "      <td>VID_7417</td>\n",
              "      <td>2014-05-01</td>\n",
              "      <td>12921.0</td>\n",
              "      <td>169.0</td>\n",
              "      <td>3.0</td>\n",
              "      <td>73.0</td>\n",
              "      <td>3</td>\n",
              "      <td>604</td>\n",
              "    </tr>\n",
              "    <tr>\n",
              "      <th>7</th>\n",
              "      <td>VID_17788</td>\n",
              "      <td>2016-07-13</td>\n",
              "      <td>4502.0</td>\n",
              "      <td>65.0</td>\n",
              "      <td>2.0</td>\n",
              "      <td>8.0</td>\n",
              "      <td>5</td>\n",
              "      <td>155</td>\n",
              "    </tr>\n",
              "    <tr>\n",
              "      <th>8</th>\n",
              "      <td>VID_14591</td>\n",
              "      <td>2014-01-13</td>\n",
              "      <td>662956.0</td>\n",
              "      <td>1841.0</td>\n",
              "      <td>321.0</td>\n",
              "      <td>219.0</td>\n",
              "      <td>3</td>\n",
              "      <td>837</td>\n",
              "    </tr>\n",
              "    <tr>\n",
              "      <th>9</th>\n",
              "      <td>VID_1228</td>\n",
              "      <td>2016-08-25</td>\n",
              "      <td>552009.0</td>\n",
              "      <td>6732.0</td>\n",
              "      <td>97.0</td>\n",
              "      <td>1100.0</td>\n",
              "      <td>1</td>\n",
              "      <td>1069</td>\n",
              "    </tr>\n",
              "  </tbody>\n",
              "</table>\n",
              "</div>"
            ],
            "text/plain": [
              "       vidid   published      views  ...  comment  category  duration\n",
              "0   VID_1054  2017-02-18   440238.0  ...   1377.0         1       449\n",
              "1  VID_18629  2016-06-28  1040132.0  ...   1047.0         5       389\n",
              "2  VID_13967  2014-03-10    28534.0  ...      1.0         3      2274\n",
              "3  VID_19442  2010-06-05  1316715.0  ...    274.0         6       595\n",
              "4    VID_770  2016-09-03  1893173.0  ...    116.0         1       188\n",
              "5  VID_10315  2014-01-23   145820.0  ...     19.0         3      2358\n",
              "6   VID_7417  2014-05-01    12921.0  ...     73.0         3       604\n",
              "7  VID_17788  2016-07-13     4502.0  ...      8.0         5       155\n",
              "8  VID_14591  2014-01-13   662956.0  ...    219.0         3       837\n",
              "9   VID_1228  2016-08-25   552009.0  ...   1100.0         1      1069\n",
              "\n",
              "[10 rows x 8 columns]"
            ]
          },
          "metadata": {
            "tags": []
          },
          "execution_count": 55
        }
      ]
    },
    {
      "cell_type": "code",
      "metadata": {
        "id": "PaPmLabsikaX",
        "outputId": "4de23bcf-e783-491c-f52b-2180d6eea5f1",
        "colab": {
          "base_uri": "https://localhost:8080/",
          "height": 404
        }
      },
      "source": [
        "from sklearn.preprocessing import MinMaxScaler\n",
        "scaler = MinMaxScaler()\n",
        "ts_test=pd.DataFrame(scaler.fit_transform(ts.iloc[:,2:-1]))\n",
        "ts_test"
      ],
      "execution_count": 56,
      "outputs": [
        {
          "output_type": "execute_result",
          "data": {
            "text/html": [
              "<div>\n",
              "<style scoped>\n",
              "    .dataframe tbody tr th:only-of-type {\n",
              "        vertical-align: middle;\n",
              "    }\n",
              "\n",
              "    .dataframe tbody tr th {\n",
              "        vertical-align: top;\n",
              "    }\n",
              "\n",
              "    .dataframe thead th {\n",
              "        text-align: right;\n",
              "    }\n",
              "</style>\n",
              "<table border=\"1\" class=\"dataframe\">\n",
              "  <thead>\n",
              "    <tr style=\"text-align: right;\">\n",
              "      <th></th>\n",
              "      <th>0</th>\n",
              "      <th>1</th>\n",
              "      <th>2</th>\n",
              "      <th>3</th>\n",
              "      <th>4</th>\n",
              "    </tr>\n",
              "  </thead>\n",
              "  <tbody>\n",
              "    <tr>\n",
              "      <th>0</th>\n",
              "      <td>0.001955</td>\n",
              "      <td>0.019224</td>\n",
              "      <td>0.006052</td>\n",
              "      <td>0.016152</td>\n",
              "      <td>0.142857</td>\n",
              "    </tr>\n",
              "    <tr>\n",
              "      <th>1</th>\n",
              "      <td>0.004620</td>\n",
              "      <td>0.025529</td>\n",
              "      <td>0.009438</td>\n",
              "      <td>0.012282</td>\n",
              "      <td>0.714286</td>\n",
              "    </tr>\n",
              "    <tr>\n",
              "      <th>2</th>\n",
              "      <td>0.000127</td>\n",
              "      <td>0.000097</td>\n",
              "      <td>0.000305</td>\n",
              "      <td>0.000012</td>\n",
              "      <td>0.428571</td>\n",
              "    </tr>\n",
              "    <tr>\n",
              "      <th>3</th>\n",
              "      <td>0.005848</td>\n",
              "      <td>0.007136</td>\n",
              "      <td>0.006940</td>\n",
              "      <td>0.003214</td>\n",
              "      <td>0.857143</td>\n",
              "    </tr>\n",
              "    <tr>\n",
              "      <th>4</th>\n",
              "      <td>0.008408</td>\n",
              "      <td>0.007870</td>\n",
              "      <td>0.006246</td>\n",
              "      <td>0.001361</td>\n",
              "      <td>0.142857</td>\n",
              "    </tr>\n",
              "    <tr>\n",
              "      <th>...</th>\n",
              "      <td>...</td>\n",
              "      <td>...</td>\n",
              "      <td>...</td>\n",
              "      <td>...</td>\n",
              "      <td>...</td>\n",
              "    </tr>\n",
              "    <tr>\n",
              "      <th>8544</th>\n",
              "      <td>0.000494</td>\n",
              "      <td>0.001472</td>\n",
              "      <td>0.000389</td>\n",
              "      <td>0.001185</td>\n",
              "      <td>0.285714</td>\n",
              "    </tr>\n",
              "    <tr>\n",
              "      <th>8545</th>\n",
              "      <td>0.004772</td>\n",
              "      <td>0.003199</td>\n",
              "      <td>0.005413</td>\n",
              "      <td>0.000762</td>\n",
              "      <td>0.428571</td>\n",
              "    </tr>\n",
              "    <tr>\n",
              "      <th>8546</th>\n",
              "      <td>0.008402</td>\n",
              "      <td>0.014391</td>\n",
              "      <td>0.030786</td>\n",
              "      <td>0.002240</td>\n",
              "      <td>0.714286</td>\n",
              "    </tr>\n",
              "    <tr>\n",
              "      <th>8547</th>\n",
              "      <td>0.003175</td>\n",
              "      <td>0.005121</td>\n",
              "      <td>0.004192</td>\n",
              "      <td>0.004481</td>\n",
              "      <td>0.428571</td>\n",
              "    </tr>\n",
              "    <tr>\n",
              "      <th>8548</th>\n",
              "      <td>0.000023</td>\n",
              "      <td>0.000037</td>\n",
              "      <td>0.000028</td>\n",
              "      <td>0.000000</td>\n",
              "      <td>0.428571</td>\n",
              "    </tr>\n",
              "  </tbody>\n",
              "</table>\n",
              "<p>8549 rows × 5 columns</p>\n",
              "</div>"
            ],
            "text/plain": [
              "             0         1         2         3         4\n",
              "0     0.001955  0.019224  0.006052  0.016152  0.142857\n",
              "1     0.004620  0.025529  0.009438  0.012282  0.714286\n",
              "2     0.000127  0.000097  0.000305  0.000012  0.428571\n",
              "3     0.005848  0.007136  0.006940  0.003214  0.857143\n",
              "4     0.008408  0.007870  0.006246  0.001361  0.142857\n",
              "...        ...       ...       ...       ...       ...\n",
              "8544  0.000494  0.001472  0.000389  0.001185  0.285714\n",
              "8545  0.004772  0.003199  0.005413  0.000762  0.428571\n",
              "8546  0.008402  0.014391  0.030786  0.002240  0.714286\n",
              "8547  0.003175  0.005121  0.004192  0.004481  0.428571\n",
              "8548  0.000023  0.000037  0.000028  0.000000  0.428571\n",
              "\n",
              "[8549 rows x 5 columns]"
            ]
          },
          "metadata": {
            "tags": []
          },
          "execution_count": 56
        }
      ]
    },
    {
      "cell_type": "code",
      "metadata": {
        "id": "0ekc8rMVPCuA"
      },
      "source": [
        "model=joblib.load('/content/supportvector_regressor_youtubeadview.pkl')\n",
        "data=model.predict(ts_test)\n",
        "from numpy import savetxt\n",
        "savetxt('Predictions_Submission.csv', data, delimiter=',')"
      ],
      "execution_count": 59,
      "outputs": []
    }
  ]
}